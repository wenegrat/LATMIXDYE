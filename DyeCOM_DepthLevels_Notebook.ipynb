{
 "cells": [
  {
   "cell_type": "markdown",
   "metadata": {},
   "source": [
    "# Calculate Dye Dispersion from LES\n",
    "\n",
    "In this notebook I load the 3 numerical model runs and calculate the dye dispersion\n",
    "\n",
    "I follow the method of M. Sundermeyer (used for the observational analysis).\n",
    "This involves first calculating the 2nd moments at each depth, then averaging over $\\pm 2$ std. deviations from the vertical COM.\n",
    "\n",
    "This is described in the supplementary material of Wenegrat et al. 2020"
   ]
  },
  {
   "cell_type": "code",
   "execution_count": 1,
   "metadata": {},
   "outputs": [],
   "source": [
    "#!/usr/bin/env python3\n",
    "# -*- coding: utf-8 -*-\n",
    "\"\"\"\n",
    "COM Statistics\n",
    "\n",
    "Created on Mon Mar 26 09:44:57 2018\n",
    "\n",
    "@author: jacob\n",
    "\"\"\"\n",
    "\n",
    "import numpy as np\n",
    "import h5py\n",
    "import scipy.integrate as integrate\n",
    "import matplotlib.pyplot as plt\n",
    "import scipy.stats as stats\n",
    "from astropy.stats import circstats"
   ]
  },
  {
   "cell_type": "code",
   "execution_count": 157,
   "metadata": {},
   "outputs": [],
   "source": [
    "#%% LOAD\n",
    "# This function does the calculation for a given model run (filename)\n",
    "def loadKappa(filename):\n",
    "    f = h5py.File(filename, 'r')\n",
    "\n",
    "    # List all groups\n",
    "#    print(\"Keys: %s\" % f.keys())\n",
    "#    keys = list(f.keys())[:]\n",
    "    \n",
    "    \n",
    "    dye1 = f['dye1'] # dye 1 is the 25 m release, dye2 was deeper (50 m)\n",
    "\n",
    "    time = f['t'][:,0]\n",
    "    x = f['x'][:,0]\n",
    "    z = f['z'][:,0]\n",
    "    z = z[1:]\n",
    "    \n",
    "    dye1 = dye1[:,1:,:]\n",
    "    nt, nz, nx = dye1.shape\n",
    "    \n",
    "    # COM Calcs    \n",
    "    # define circular coordinate system for averaging\n",
    "    theta = x/np.max(x)*2*np.pi\n",
    "    xi = np.cos(theta)\n",
    "    zi = np.sin(theta)\n",
    "    x2i = np.cos(2*theta)\n",
    "    z2i = np.sin(2*theta)\n",
    "    \n",
    "    # Pick which variable to use\n",
    "    dyevar = dye1\n",
    "    \n",
    "    # Pre-allocate\n",
    "    ZCM = np.zeros((nt,))\n",
    "    xposcom = np.zeros((nt,))\n",
    "    xs = np.zeros((nt, nx))\n",
    "    XVar = np.zeros((nt,nz))\n",
    "    \n",
    "    dyehor = np.zeros((nt, nz))\n",
    "    \n",
    "    # For each depth and timestep calculate the 2nd moment\n",
    "    for j in range(0, nz):\n",
    "        print(j)\n",
    "        for i in range(0,nt):\n",
    "            dyehor[i, j] = integrate.trapz(dyevar[i,j,:], x=x) # integrate horizontally at each depth for later vert COM calc\n",
    "            # Calculate zonal center of mass\n",
    "            xii = xi*dyevar[i,j,:] #Weighted unwrapped coordinate system\n",
    "            zii = zi*dyevar[i,j,:]\n",
    "            tbar = np.arctan2(-np.mean(zii), -np.mean(xii)) + np.pi \n",
    "#            vbar = np.arctan2(-np.mean(z2i*dyevar[i,j,:]), -np.mean(x2i*dyevar[i,j,:])) + np.pi\n",
    "            ZCM[i] = np.max(x)*tbar/(2*np.pi) # This is the horizontal (zonal) COM\n",
    "            \n",
    "            # Find index of Zonal Center of Mass\n",
    "            ind = np.where(x>=ZCM[i])[0][0]\n",
    "            xposcom[i] = x[ind]\n",
    "            indshift = ind-nx/2 # This is used to center the dye in the domain.\n",
    "            indshift = indshift.astype('int64')\n",
    "            \n",
    "            #Circular shift everything\n",
    "            dyeroll = np.roll(dyevar[i,j,:], -indshift, axis=0) # This puts the COM in the center of the domain\n",
    "#            xroll = np.roll(x, -indshift)\n",
    "            xs = x - x[int(nx/2)] # Set center coordinate to 0\n",
    "\n",
    "            \n",
    "            # Calculate dye variance around COM\n",
    "            M20 = integrate.trapz(xs**2*dyeroll, x=xs, axis=0) #\n",
    "            XVar[i,j] = M20/dyehor[i,j] \n",
    "           \n",
    "            #dyenorm = dyevar[i,j,:]/np.max(dyevar[i,j,:])\n",
    "            #XVar[i,j] = stats.circvar(np.arctan2(-zi*dyenorm, -xi*dyenorm))*np.max(x)**2/(2*np.pi)**2\n",
    "    #        XVar[i,j] = circstats.circvar(theta, weights = dyevar[i,j,:]/np.sum(dyevar[i,j,:]))*np.max(x)**2/(2*np.pi)**2\n",
    "            #test = circstats.circmoment(theta, p=2.0,centered=False, weights = dyevar[i,j,:]/dyehor[i,j])\n",
    "            #XVar[i,j] = test[0]*np.max(x)**2\n",
    "\n",
    "    # Now calculate the vertical COM at each timestep\n",
    "    VCMind = np.zeros((nt,))\n",
    "    Vsigma = np.zeros((nt,))\n",
    "    ZCOM = np.zeros((nt,))\n",
    "    for i in range(0, nt):\n",
    "       VCOM = integrate.trapz(z*dyehor[i,:], x=z)/integrate.trapz(dyehor[i,:], x=z) # restrict z coordinate\n",
    "       ind = np.argmin(np.abs(z-VCOM))\n",
    "       if not ind==0:\n",
    "           VCMind[i] = np.where(z>=VCOM)[0][0]\n",
    "           ZCOM[i] = z[int(VCMind[i])]\n",
    "           zs = z - z[int(VCMind[i])]\n",
    "           Vsigma[i] = integrate.trapz(zs**2*dyehor[i,:], x=zs)/integrate.trapz(dyehor[i,:], x=zs)\n",
    "       \n",
    "              \n",
    "    # Calculate kappa and buoyancy class\n",
    "    mask = (np.zeros((nt,nz)))\n",
    "    zu = np.zeros((nt,))\n",
    "    zd = np.zeros((nt,))\n",
    "    zdiff = np.zeros((nt,))\n",
    "    \n",
    "    indz = np.argmin(np.abs(z+0))\n",
    "    for i in range(0, nt):\n",
    "        # 2 sigma method a la Miles\n",
    "        indu = np.argmin(np.abs(z - (ZCOM[i] + 2*Vsigma[i]**(1/2)))) # 2 std devs above the vertical COM\n",
    "        if indu>indz: \n",
    "            indu = indz\n",
    "        indd = np.argmin(np.abs(z - (ZCOM[i] - 2*Vsigma[i]**(1/2)))) # 2 std devs below the vertical COM\n",
    "        \n",
    "        zu[i] = z[indu]\n",
    "        zd[i] = z[indd]\n",
    "        zdiff[i] = z[indu] - z[indd]\n",
    "        mask[i,indd:indu] = 1 # Note that the mask is size (nt, nz)\n",
    "\n",
    "    # Concentration weighted vertical average of the X 2nd mometn\n",
    "    XVarB = integrate.trapz(XVar*mask*dyehor, x=z, axis=-1)/(integrate.trapz(dyehor*mask, x=z, axis=-1))\n",
    "    \n",
    "    #XVarB = integrate.trapz(XVar*mask, x=z, axis=-1)/(np.abs(zdiff))\n",
    "    \n",
    "    # Horizontal diffusivity\n",
    "    kappa = 0.5*np.gradient(XVarB[0:time.size], axis=0)/np.gradient(time)\n",
    "    # Vertical diffusivity\n",
    "    kappaz = 0.5*np.gradient(Vsigma[0:time.size], axis=0)/np.gradient(time)\n",
    "    return kappa, kappaz, XVarB, time"
   ]
  },
  {
   "cell_type": "code",
   "execution_count": 158,
   "metadata": {},
   "outputs": [
    {
     "name": "stdout",
     "output_type": "stream",
     "text": [
      "0\n"
     ]
    },
    {
     "name": "stderr",
     "output_type": "stream",
     "text": [
      "/homes/metofac/wenegrat/miniconda3/envs/latmix/lib/python3.6/site-packages/ipykernel_launcher.py:66: RuntimeWarning: invalid value encountered in double_scalars\n"
     ]
    },
    {
     "name": "stdout",
     "output_type": "stream",
     "text": [
      "1\n",
      "2\n",
      "3\n",
      "4\n",
      "5\n",
      "6\n",
      "7\n",
      "8\n",
      "9\n",
      "10\n",
      "11\n",
      "12\n",
      "13\n",
      "14\n",
      "15\n",
      "16\n",
      "17\n",
      "18\n",
      "19\n",
      "20\n",
      "21\n",
      "22\n",
      "23\n",
      "24\n",
      "25\n",
      "26\n",
      "27\n",
      "28\n",
      "29\n",
      "30\n",
      "31\n",
      "32\n",
      "33\n",
      "34\n",
      "35\n",
      "36\n",
      "37\n",
      "38\n",
      "39\n",
      "40\n",
      "41\n",
      "42\n",
      "43\n",
      "44\n",
      "45\n",
      "46\n",
      "47\n",
      "48\n",
      "49\n",
      "50\n",
      "51\n",
      "52\n",
      "53\n",
      "54\n",
      "55\n",
      "56\n",
      "57\n",
      "58\n",
      "59\n",
      "60\n",
      "61\n",
      "62\n",
      "63\n",
      "64\n",
      "65\n",
      "66\n",
      "67\n",
      "68\n",
      "69\n",
      "70\n",
      "71\n",
      "72\n",
      "73\n",
      "74\n",
      "75\n",
      "76\n",
      "77\n",
      "78\n",
      "79\n",
      "80\n",
      "81\n",
      "82\n",
      "83\n",
      "84\n",
      "85\n",
      "86\n",
      "87\n",
      "88\n",
      "89\n",
      "90\n",
      "91\n",
      "92\n",
      "93\n",
      "94\n",
      "95\n",
      "96\n",
      "97\n",
      "98\n"
     ]
    },
    {
     "name": "stderr",
     "output_type": "stream",
     "text": [
      "/homes/metofac/wenegrat/miniconda3/envs/latmix/lib/python3.6/site-packages/ipykernel_launcher.py:79: RuntimeWarning: invalid value encountered in double_scalars\n",
      "/homes/metofac/wenegrat/miniconda3/envs/latmix/lib/python3.6/site-packages/ipykernel_launcher.py:123: RuntimeWarning: invalid value encountered in true_divide\n"
     ]
    },
    {
     "name": "stdout",
     "output_type": "stream",
     "text": [
      "0\n",
      "1\n",
      "2\n",
      "3\n",
      "4\n",
      "5\n",
      "6\n",
      "7\n",
      "8\n",
      "9\n",
      "10\n",
      "11\n",
      "12\n",
      "13\n",
      "14\n",
      "15\n",
      "16\n",
      "17\n",
      "18\n",
      "19\n",
      "20\n",
      "21\n",
      "22\n",
      "23\n",
      "24\n",
      "25\n",
      "26\n",
      "27\n",
      "28\n",
      "29\n",
      "30\n",
      "31\n",
      "32\n",
      "33\n",
      "34\n",
      "35\n",
      "36\n",
      "37\n",
      "38\n",
      "39\n",
      "40\n",
      "41\n",
      "42\n",
      "43\n",
      "44\n",
      "45\n",
      "46\n",
      "47\n",
      "48\n",
      "49\n",
      "50\n",
      "51\n",
      "52\n",
      "53\n",
      "54\n",
      "55\n",
      "56\n",
      "57\n",
      "58\n",
      "59\n",
      "60\n",
      "61\n",
      "62\n",
      "63\n",
      "64\n",
      "65\n",
      "66\n",
      "67\n",
      "68\n",
      "69\n",
      "70\n",
      "71\n",
      "72\n",
      "73\n",
      "74\n",
      "75\n",
      "76\n",
      "77\n",
      "78\n",
      "79\n",
      "80\n",
      "81\n",
      "82\n",
      "83\n",
      "84\n",
      "85\n",
      "86\n",
      "87\n",
      "88\n",
      "89\n",
      "90\n",
      "91\n",
      "92\n",
      "93\n",
      "94\n",
      "95\n",
      "96\n",
      "97\n",
      "98\n",
      "0\n",
      "1\n",
      "2\n",
      "3\n",
      "4\n",
      "5\n",
      "6\n",
      "7\n",
      "8\n",
      "9\n",
      "10\n",
      "11\n",
      "12\n",
      "13\n",
      "14\n",
      "15\n",
      "16\n",
      "17\n",
      "18\n",
      "19\n",
      "20\n",
      "21\n",
      "22\n",
      "23\n",
      "24\n",
      "25\n",
      "26\n",
      "27\n",
      "28\n",
      "29\n",
      "30\n",
      "31\n",
      "32\n",
      "33\n",
      "34\n",
      "35\n",
      "36\n",
      "37\n",
      "38\n",
      "39\n",
      "40\n",
      "41\n",
      "42\n",
      "43\n",
      "44\n",
      "45\n",
      "46\n",
      "47\n",
      "48\n",
      "49\n",
      "50\n",
      "51\n",
      "52\n",
      "53\n",
      "54\n",
      "55\n",
      "56\n",
      "57\n",
      "58\n",
      "59\n",
      "60\n",
      "61\n",
      "62\n",
      "63\n",
      "64\n",
      "65\n",
      "66\n",
      "67\n",
      "68\n",
      "69\n",
      "70\n",
      "71\n",
      "72\n",
      "73\n",
      "74\n",
      "75\n",
      "76\n",
      "77\n",
      "78\n",
      "79\n",
      "80\n",
      "81\n",
      "82\n",
      "83\n",
      "84\n",
      "85\n",
      "86\n",
      "87\n",
      "88\n",
      "89\n",
      "90\n",
      "91\n",
      "92\n",
      "93\n",
      "94\n",
      "95\n",
      "96\n",
      "97\n",
      "98\n"
     ]
    }
   ],
   "source": [
    "#%% \n",
    "    kappa_front, kappaz_front, Var_front, time_front = loadKappa('/data/pacific/jacob/LATMIXDYE/LATMIX/run10k.mat') # Pick which run\n",
    "    kappa_nofront, kappaz_nofront, Var_nofront, time_nofront = loadKappa('/data/pacific/jacob/LATMIXDYE/nofront.mat') # Pick which run\n",
    "    kappa_nogeo, kappaz_nogeo, Var_nogeo, time_nogeo = loadKappa('/data/pacific/jacob/LATMIXDYE/notw.mat') # Pick which run\n",
    "#%%"
   ]
  },
  {
   "cell_type": "code",
   "execution_count": 156,
   "metadata": {},
   "outputs": [
    {
     "name": "stdout",
     "output_type": "stream",
     "text": [
      "K average: 8.366926543618627\n",
      "K peak:    45.656025415069834\n",
      "8.360095908499654\n"
     ]
    }
   ],
   "source": [
    "timevar = time_nogeo\n",
    "kappaz = kappa_nogeo\n",
    "\n",
    "indl = np.argmin(np.abs(timevar/86400+64.5 - 64.875))\n",
    "indr = np.argmin(np.abs(timevar/86400+64.5 - (65.5)))\n",
    "\n",
    "pstargrad = 0.06/2.5e3\n",
    "#pstargrad = 0.1/1e3\n",
    "bld = 100\n",
    "\n",
    "#avgkappa = np.mean(kappaz[indl:indr]) # Naive way to do it\n",
    "avgkappa = integrate.trapz(kappaz[indl:indr], x=timevar[indl:indr])/(timevar[indr] - timevar[indl]) # account for variable timestep\n",
    "\n",
    "peakkappa = np.nanmax(kappaz[indl:indr])\n",
    "#kappasteady = avgkappa*5\n",
    "#kappaoscill = avgkappa/5\n",
    "#maxkappa = np.nanmax(kappaz)\n",
    "\n",
    "print('K average: ' + str(avgkappa))\n",
    "print('K peak:    ' + str(peakkappa))\n",
    "\n",
    "#print('K steady: ' + str(kappasteady))\n",
    "#print('K oscill: ' + str(kappaoscill))\n",
    "\n",
    "#print('Averaged: ' + str(avgkappa*bld*pstargrad)) # estimating one event per 3 days\n",
    "#print('Maximum:  ' + str(maxkappa*bld*pstargrad)) # estimating one event per 3 days\n",
    "\n",
    "#print(0.5*(Var_nogeo[indr] - Var_nogeo[indl])/(timevar[indr] - timevar[indl]) )"
   ]
  },
  {
   "cell_type": "markdown",
   "metadata": {},
   "source": [
    "## Calculate Flux Estimates\n",
    "Here we do the back of the envelope calculations for the salinity and P* fluxes"
   ]
  },
  {
   "cell_type": "code",
   "execution_count": 165,
   "metadata": {},
   "outputs": [
    {
     "name": "stdout",
     "output_type": "stream",
     "text": [
      "ML Salinity Flux integrated over 1200.0 km: -600000.0 psu m^3 s^-1\n",
      "ML P* integrated over 3000.0 km: 2838240000.0 mol/year\n"
     ]
    }
   ],
   "source": [
    "# Calculate salinity flux\n",
    "###############\n",
    "kappa_sal = 50 # What diffusivity to use\n",
    "D = 100\n",
    "DeltaS = -1\n",
    "L = 10e3\n",
    "\n",
    "LGulf = 1200e3 # Integrate over a portion of the Gulf Stream, here following Joyce et al. 2013\n",
    "\n",
    "IntFlux = kappa_sal*D*DeltaS/L * LGulf # Units of m^2/s *  m * PSU/m * m = m^3 PSU/ s\n",
    "\n",
    "print(f'ML Salinity Flux integrated over {LGulf/1e3} km: {IntFlux} psu m^3 s^{-1}')\n",
    "\n",
    "\n",
    "# Calculate P* flux\n",
    "kappa_p = 50\n",
    "D = 100 \n",
    "DeltaP = 0.06\n",
    "L = 5e3\n",
    "\n",
    "LGulf = 3000e3 # For comparison with Palter et al. 2011\n",
    "\n",
    "IntPFlux = kappa_p*D*DeltaP/L * LGulf # units of m^2/s * m * mmol/m^3 m^{-1} * m = mmol/s\n",
    "IntPFlux = IntPFlux * 365*86400/1000# units of mol/year\n",
    "IntPFlux = IntPFlux * 0.5 # Conditions found 1/2 of the time\n",
    "print(f'ML P* integrated over {LGulf/1e3} km: {IntPFlux} mol/year')\n",
    "\n"
   ]
  },
  {
   "cell_type": "markdown",
   "metadata": {},
   "source": [
    "## Make figure 5\n",
    "This makes the figure of the increase of cross-frontal variance"
   ]
  },
  {
   "cell_type": "code",
   "execution_count": 162,
   "metadata": {},
   "outputs": [
    {
     "data": {
      "image/png": "[encoded data removed]",
      "text/plain": [
       "<Figure size 432x288 with 1 Axes>"
      ]
     },
     "metadata": {
      "needs_background": "light"
     },
     "output_type": "display_data"
    },
    {
     "data": {
      "image/png": "[encoded data removed]",
      "text/plain": [
       "<Figure size 864x288 with 1 Axes>"
      ]
     },
     "metadata": {
      "needs_background": "light"
     },
     "output_type": "display_data"
    }
   ],
   "source": [
    "#%% PLOT KAPPA Z\n",
    "plt.figure()\n",
    "plt.plot(time_front/86400+64.5,kappa_front[0:time_front.size])\n",
    "plt.plot(time_nofront/86400+64.5,kappa_nofront[0:time_nofront.size])\n",
    "plt.plot(time_nogeo/86400+64.5,kappa_nogeo[0:time_nogeo.size])\n",
    "#plt.axhline(57)\n",
    "#plt.axhline(16)\n",
    "plt.xlabel('Yearday')\n",
    "plt.ylabel('$\\kappa_h$ m$^2$s$^{-1}$')\n",
    "plt.grid()\n",
    "plt.tight_layout()\n",
    "plt.xlim((65.1, 65.5))\n",
    "\n",
    "#%% PLOT Variance\n",
    "plt.rcParams['text.usetex'] = True\n",
    "plt.rcParams['mathtext.fontset'] = 'stix'\n",
    "plt.rcParams['font.family'] = 'STIXGeneral'\n",
    "plt.rcParams['font.size'] = 20\n",
    "plt.rcParams['contour.negative_linestyle'] = 'solid'\n",
    "\n",
    "plt.figure(figsize=(12,4))\n",
    "plt.plot(time_front/86400+64.5,Var_front[0:time_front.size], label='FRONT', linewidth=2)\n",
    "plt.plot(time_nofront/86400+64.5,Var_nofront[0:time_nofront.size], label='NO-FRONT', linewidth=2)\n",
    "plt.plot(time_nogeo/86400+64.5,Var_nogeo[0:time_nogeo.size], label='NO-GEOMIX', linewidth=2)\n",
    "\n",
    "plt.xlabel('Yearday')\n",
    "plt.ylabel('Cross-frontal variance, m$^2$')\n",
    "plt.grid()\n",
    "plt.tight_layout()\n",
    "plt.legend()\n",
    "plt.xlim((64.87, 66))\n",
    "plt.ticklabel_format(style='sci', axis='y', scilimits=(0,0))\n",
    "\n",
    "#plt.savefig('/home/jacob/Dropbox/GulfStreamDye/LATMIXSCIENCE/FigureModelVariance.pdf', bbox_inches='tight')"
   ]
  },
  {
   "cell_type": "markdown",
   "metadata": {},
   "source": [
    "## Extras\n",
    "\n",
    "Some miscelleaneous stuff not used in the ms"
   ]
  },
  {
   "cell_type": "code",
   "execution_count": 58,
   "metadata": {},
   "outputs": [
    {
     "data": {
      "text/plain": [
       "<matplotlib.collections.PathCollection at 0x7fb30bc410b8>"
      ]
     },
     "execution_count": 58,
     "metadata": {},
     "output_type": "execute_result"
    },
    {
     "data": {
      "image/png": "[encoded data removed]",
      "text/plain": [
       "<Figure size 432x288 with 1 Axes>"
      ]
     },
     "metadata": {
      "needs_background": "light"
     },
     "output_type": "display_data"
    }
   ],
   "source": [
    "plt.scatter(np.gradient(time_front), kappa_front)"
   ]
  },
  {
   "cell_type": "code",
   "execution_count": 9,
   "metadata": {},
   "outputs": [
    {
     "data": {
      "text/plain": [
       "(64.5, 66)"
      ]
     },
     "execution_count": 9,
     "metadata": {},
     "output_type": "execute_result"
    },
    {
     "data": {
      "image/png": "[encoded data removed]",
      "text/plain": [
       "<Figure size 432x288 with 1 Axes>"
      ]
     },
     "metadata": {
      "needs_background": "light"
     },
     "output_type": "display_data"
    }
   ],
   "source": [
    "#%% PLOT KAPPA H\n",
    "plt.figure()\n",
    "plt.plot(time_front/86400+64.5,kappa_front[0:time_front.size])\n",
    "plt.plot(time_nofront/86400+64.5,kappa_nofront[0:time_nofront.size])\n",
    "plt.plot(time_nogeo/86400+64.5,kappa_nogeo[0:time_nogeo.size])\n",
    "\n",
    "plt.xlabel('Yearday')\n",
    "plt.ylabel('$\\kappa_h$ m$^2$s$^{-1}$')\n",
    "plt.grid()\n",
    "plt.tight_layout()\n",
    "plt.xlim((64.5, 66))"
   ]
  },
  {
   "cell_type": "code",
   "execution_count": 85,
   "metadata": {},
   "outputs": [
    {
     "data": {
      "text/plain": [
       "<matplotlib.lines.Line2D at 0x7fb2b760d780>"
      ]
     },
     "execution_count": 85,
     "metadata": {},
     "output_type": "execute_result"
    },
    {
     "data": {
      "image/png": "[encoded data removed]",
      "text/plain": [
       "<Figure size 432x288 with 1 Axes>"
      ]
     },
     "metadata": {
      "needs_background": "light"
     },
     "output_type": "display_data"
    }
   ],
   "source": [
    "#%% DO SOME VALIDATION\n",
    "\n",
    "xg = np.linspace(-20e3, 20e3, 1000)\n",
    "#time = np.linspace(0, 10, 500)\n",
    "time_syn = time_front +0.38*86400\n",
    "dye = np.zeros((time.size, xg.size))\n",
    "\n",
    "sigma2 = np.zeros((time_syn.size,))\n",
    "sigma2[0] = 75**2\n",
    "dye[0,:] = np.exp( -(xg**2/(2*25**2) ))\n",
    "\n",
    "kap = 57\n",
    "for i in range(1, time_syn.size):\n",
    "    #kap = kappa_front[i]\n",
    "    if ~np.isfinite(kap):\n",
    "        kap = 0\n",
    "    sigma2[i] = sigma2[i-1] + (time_syn[i] - time_syn[i-1])*2*kap\n",
    "    dye[i,:] = np.exp( -(xg**2/(2*sigma2[i]) ))\n",
    "#plt.figure()\n",
    "#plt.plot(x, dye[0,:])\n",
    "#tl = range(0, np.argmin(np.abs(time_front/86400-65.5+64.5)), 50)\n",
    "#plt.plot(xg, np.transpose(dye[tl,:]))\n",
    "#plt.legend()\n",
    "\n",
    "plt.figure()\n",
    "plt.plot(time_syn/86400, sigma2)\n",
    "plt.plot(time_front/86400, Var_front[0:time_front.size])\n",
    "plt.axvline(65.5-64.5)"
   ]
  },
  {
   "cell_type": "code",
   "execution_count": 153,
   "metadata": {},
   "outputs": [
    {
     "data": {
      "text/plain": [
       "10.0"
      ]
     },
     "execution_count": 153,
     "metadata": {},
     "output_type": "execute_result"
    }
   ],
   "source": [
    "(10e3)**2/10e6"
   ]
  },
  {
   "cell_type": "code",
   "execution_count": 81,
   "metadata": {},
   "outputs": [],
   "source": [
    "#%% PICK A PARTICULAR TIME AND PLOT THE INTEGRATED DYE VARIANCE\n",
    "# 1) Load a run\n",
    "# 2) Pick a time\n",
    "# 3) Calculate vertically integrated dye concentration\n",
    "# 4) Compare it to the Gaussian shape inferred from above integration\n",
    "\n",
    "f = h5py.File('/data/pacific/jacob/LATMIXDYE/LATMIX/run10k.mat', 'r')\n",
    "dye1 = f['dye1']\n",
    "time = f['t'][:,0]\n",
    "x = f['x'][:,0]\n",
    "z = f['z'][:,0]\n",
    "z = z[1:]\n",
    "dye1 = dye1[:,1:,:]\n",
    "nt, nz, nx = dye1.shape\n",
    "\n",
    "# COM Calcs    \n",
    "# define circular coordinate system for averaging\n",
    "theta = x/np.max(x)*2*np.pi\n",
    "xi = np.cos(theta)\n",
    "zi = np.sin(theta)\n",
    "x2i = np.cos(2*theta)\n",
    "z2i = np.sin(2*theta)"
   ]
  },
  {
   "cell_type": "code",
   "execution_count": 134,
   "metadata": {},
   "outputs": [
    {
     "name": "stdout",
     "output_type": "stream",
     "text": [
      "0.5999074074074074\n",
      "0.6003640738512084\n"
     ]
    },
    {
     "data": {
      "text/plain": [
       "(-5000.0, 5000.0)"
      ]
     },
     "execution_count": 134,
     "metadata": {},
     "output_type": "execute_result"
    },
    {
     "data": {
      "image/png": "[encoded data removed]",
      "text/plain": [
       "<Figure size 432x288 with 1 Axes>"
      ]
     },
     "metadata": {
      "needs_background": "light"
     },
     "output_type": "display_data"
    }
   ],
   "source": [
    "#%% CONTINUED...\n",
    "#Pick a time\n",
    "timetarget = 65.1\n",
    "\n",
    "timeind = np.argmin(np.abs(time/86400+64.5-timetarget))\n",
    "timeind_syn = np.argmin(np.abs(time_syn/86400 + 64.5 - timetarget))\n",
    "dyevert = integrate.trapz(dye1[timeind,:,:], x=z, axis=0)\n",
    "\n",
    "# Calculate zonal center of mass\n",
    "xii = xi*dyevert #Weighted unwrapped coordinate system\n",
    "zii = zi*dyevert\n",
    "tbar = np.arctan2(-np.mean(zii), -np.mean(xii)) + np.pi\n",
    "#            vbar = np.arctan2(-np.mean(z2i*dyevar[i,j,:]), -np.mean(x2i*dyevar[i,j,:])) + np.pi\n",
    "ZCM = np.max(x)*tbar/(2*np.pi) # This is the horizontal (zonal) COM\n",
    "            \n",
    " # Find index of Zonal Center of Mass\n",
    "ind = np.where(x>=ZCM)[0][0]\n",
    "xposcom = x[ind]\n",
    "indshift = ind-nx/2 # This is used to center the dye in the domain.\n",
    "indshift = indshift.astype('int64')\n",
    "            \n",
    "            #Circular shfit everything\n",
    "dyeroll = np.roll(dyevert, -indshift, axis=0) # This puts the COM in the center of the domain\n",
    "#            xroll = np.roll(x, -indshift)\n",
    "xs = x - x[int(nx/2)] # Set center coordinate to 0\n",
    "\n",
    "\n",
    "vsig = integrate.trapz(xs**2*dyeroll, x=xs)/integrate.trapz(dyeroll, x=xs)\n",
    "plt.figure()\n",
    "plt.plot(xs, dyeroll)\n",
    "plt.plot(xg, dye[timeind_syn,:]*np.max(dyeroll)/np.max(dye[timeind_syn,:]))\n",
    "plt.axvline(np.sqrt(vsig), color='r')\n",
    "plt.axvline(np.sqrt(sigma2[timeind]), color='r', linestyle='dashed')\n",
    "\n",
    "print(time_syn[timeind_syn]/86400)\n",
    "print(time[timeind]/86400)\n",
    "\n",
    "plt.xlim(-5e3, 5e3)"
   ]
  },
  {
   "cell_type": "code",
   "execution_count": 136,
   "metadata": {},
   "outputs": [
    {
     "name": "stdout",
     "output_type": "stream",
     "text": [
      "5003.90625\n"
     ]
    },
    {
     "data": {
      "text/plain": [
       "5003.330231031377"
      ]
     },
     "execution_count": 136,
     "metadata": {},
     "output_type": "execute_result"
    }
   ],
   "source": [
    "# Confirm that the rolled dye COM is at x=0.\n",
    "# Calculate zonal center of mass\n",
    "xii = xi*dyeroll #Weighted unwrapped coordinate system\n",
    "zii = zi*dyeroll\n",
    "tbar = np.arctan2(-np.mean(zii), -np.mean(xii)) + np.pi\n",
    "#            vbar = np.arctan2(-np.mean(z2i*dyevar[i,j,:]), -np.mean(x2i*dyevar[i,j,:])) + np.pi\n",
    "ZCM = np.max(x)*tbar/(2*np.pi) # This is the horizontal (zonal) COM\n",
    "            \n",
    " # Find index of Zonal Center of Mass\n",
    "ind = np.where(x>=ZCM)[0][0]\n",
    "print(x[ind])\n",
    "ZCM # NOTE THIS SHOULD BE 5km"
   ]
  },
  {
   "cell_type": "code",
   "execution_count": 101,
   "metadata": {},
   "outputs": [
    {
     "ename": "NameError",
     "evalue": "name 'XVarB' is not defined",
     "output_type": "error",
     "traceback": [
      "\u001b[0;31m---------------------------------------------------------------------------\u001b[0m",
      "\u001b[0;31mNameError\u001b[0m                                 Traceback (most recent call last)",
      "\u001b[0;32m<ipython-input-101-036cfccd5b2b>\u001b[0m in \u001b[0;36m<module>\u001b[0;34m\u001b[0m\n\u001b[1;32m      1\u001b[0m \u001b[0;31m#%% PLOT VARIANCE\u001b[0m\u001b[0;34m\u001b[0m\u001b[0;34m\u001b[0m\u001b[0;34m\u001b[0m\u001b[0m\n\u001b[1;32m      2\u001b[0m \u001b[0mplt\u001b[0m\u001b[0;34m.\u001b[0m\u001b[0mfigure\u001b[0m\u001b[0;34m(\u001b[0m\u001b[0;34m)\u001b[0m\u001b[0;34m\u001b[0m\u001b[0;34m\u001b[0m\u001b[0m\n\u001b[0;32m----> 3\u001b[0;31m \u001b[0mplt\u001b[0m\u001b[0;34m.\u001b[0m\u001b[0mplot\u001b[0m\u001b[0;34m(\u001b[0m\u001b[0mtime\u001b[0m\u001b[0;34m/\u001b[0m\u001b[0;36m86400\u001b[0m\u001b[0;34m+\u001b[0m\u001b[0;36m64.5\u001b[0m\u001b[0;34m,\u001b[0m\u001b[0;36m4\u001b[0m\u001b[0;34m*\u001b[0m\u001b[0mnp\u001b[0m\u001b[0;34m.\u001b[0m\u001b[0msqrt\u001b[0m\u001b[0;34m(\u001b[0m\u001b[0mXVarB\u001b[0m\u001b[0;34m[\u001b[0m\u001b[0;36m0\u001b[0m\u001b[0;34m:\u001b[0m\u001b[0mtime\u001b[0m\u001b[0;34m.\u001b[0m\u001b[0msize\u001b[0m\u001b[0;34m]\u001b[0m\u001b[0;34m)\u001b[0m\u001b[0;34m)\u001b[0m\u001b[0;34m\u001b[0m\u001b[0;34m\u001b[0m\u001b[0m\n\u001b[0m\u001b[1;32m      4\u001b[0m \u001b[0mplt\u001b[0m\u001b[0;34m.\u001b[0m\u001b[0mxlabel\u001b[0m\u001b[0;34m(\u001b[0m\u001b[0;34m'Yearday'\u001b[0m\u001b[0;34m)\u001b[0m\u001b[0;34m\u001b[0m\u001b[0;34m\u001b[0m\u001b[0m\n\u001b[1;32m      5\u001b[0m \u001b[0mplt\u001b[0m\u001b[0;34m.\u001b[0m\u001b[0mylabel\u001b[0m\u001b[0;34m(\u001b[0m\u001b[0;34m'4$\\sigma$ [m]'\u001b[0m\u001b[0;34m)\u001b[0m\u001b[0;34m\u001b[0m\u001b[0;34m\u001b[0m\u001b[0m\n",
      "\u001b[0;31mNameError\u001b[0m: name 'XVarB' is not defined"
     ]
    },
    {
     "data": {
      "text/plain": [
       "<Figure size 432x288 with 0 Axes>"
      ]
     },
     "metadata": {},
     "output_type": "display_data"
    }
   ],
   "source": [
    "    #%% PLOT VARIANCE\n",
    "plt.figure()\n",
    "plt.plot(time/86400+64.5,4*np.sqrt(XVarB[0:time.size]))\n",
    "plt.xlabel('Yearday')\n",
    "plt.ylabel('4$\\sigma$ [m]')\n",
    "plt.grid()\n",
    "plt.tight_layout()\n",
    "plt.xlim((64.5, 66))\n",
    "#%%\n",
    "\n",
    "plt.figure()\n",
    "plt.pcolor(time/86400,z, np.transpose(kappa), vmin=0, vmax=500)\n",
    "plt.colorbar()\n",
    "plt.plot(time/86400, ZCOM[0:1569])\n",
    "\n",
    "#%%\n",
    "plt.figure()\n",
    "plt.pcolor(time/86400 +64.5,z, np.transpose(XVar[0:1569,:]*mask[0:1569,:]))\n",
    "plt.colorbar()\n",
    "plt.plot(time/86400 + 64.5, ZCOM[0:1569])\n",
    "plt.plot(time/86400 + 64.5, zd[0:1569])\n",
    "plt.plot(time/86400 + 64.5, zu[0:1569])\n",
    "plt.xlabel('Yearday')\n",
    "plt.xlim((64.5, 66))\n",
    "plt.ylabel('z')\n",
    "#%%\n",
    "plt.figure()\n",
    "plt.pcolor(time/86400+64.5,z, np.transpose(dyehor[0:1569,:]))"
   ]
  },
  {
   "cell_type": "code",
   "execution_count": 150,
   "metadata": {},
   "outputs": [
    {
     "data": {
      "text/plain": [
       "<matplotlib.colorbar.Colorbar at 0x7fb2b6d12470>"
      ]
     },
     "execution_count": 150,
     "metadata": {},
     "output_type": "execute_result"
    },
    {
     "data": {
      "image/png": "[encoded data removed]",
      "text/plain": [
       "<Figure size 432x288 with 2 Axes>"
      ]
     },
     "metadata": {
      "needs_background": "light"
     },
     "output_type": "display_data"
    }
   ],
   "source": [
    "## Quick Check of Analytical solution:\n",
    "\n",
    "ta = np.linspace(0, 2*np.pi)\n",
    "\n",
    "ueq = -1/2\n",
    "ug = 1\n",
    "veq = 1/2\n",
    "vg = 0\n",
    "\n",
    "ut = ug - veq*np.sin(ta) + ueq*(1-np.cos(ta))\n",
    "vt = veq*(1-np.cos(ta)) +ueq*np.sin(ta)\n",
    "\n",
    "plt.plot(ut, vt)\n",
    "plt.scatter(ut, vt, c=ta)\n",
    "plt.scatter(ug+ueq, veq, marker='x')\n",
    "plt.scatter(ug, 0, marker='x')\n",
    "plt.colorbar()\n"
   ]
  },
  {
   "cell_type": "code",
   "execution_count": null,
   "metadata": {},
   "outputs": [],
   "source": []
  }
 ],
 "metadata": {
  "kernelspec": {
   "display_name": "Python [conda env:latmix]",
   "language": "python",
   "name": "conda-env-latmix-py"
  },
  "language_info": {
   "codemirror_mode": {
    "name": "ipython",
    "version": 3
   },
   "file_extension": ".py",
   "mimetype": "text/x-python",
   "name": "python",
   "nbconvert_exporter": "python",
   "pygments_lexer": "ipython3",
   "version": "3.6.10"
  }
 },
 "nbformat": 4,
 "nbformat_minor": 4
}
