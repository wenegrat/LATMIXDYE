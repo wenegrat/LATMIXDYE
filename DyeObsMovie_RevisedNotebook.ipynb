{
 "cells": [
  {
   "cell_type": "markdown",
   "metadata": {},
   "source": [
    "# Make Obs Movie Plots\n",
    "## Make slice plots (for movie) of dye observations\n",
    "This notebook is revised (5/2020) with improved projection methods for the cross-front coordinate.\n"
   ]
  },
  {
   "cell_type": "code",
   "execution_count": 9,
   "metadata": {},
   "outputs": [],
   "source": [
    "#!/usr/bin/env python3\n",
    "# -*- coding: utf-8 -*-\n",
    "\"\"\"\n",
    "Created on Thu Jul 11 15:24:57 2019\n",
    "\n",
    "@author: jacob\n",
    "\"\"\"\n",
    "\n",
    "import h5py\n",
    "import scipy.io as spio\n",
    "import matplotlib.pyplot as plt\n",
    "import numpy as np\n",
    "from cmocean import cm as cmo\n",
    "from scipy.interpolate import griddata\n",
    "import scipy.integrate as integrate\n",
    "from scipy.optimize import curve_fit\n",
    "from scipy.signal import savgol_filter\n",
    "from mpl_toolkits.axes_grid1.inset_locator import inset_axes\n",
    "import numpy.ma as ma\n",
    "from shapely.geometry import LineString\n",
    "\n",
    "#from matplotlib.mlab import griddata\n",
    "import datetime as dt\n",
    "import gsw\n",
    "import scipy.interpolate as interp\n",
    "from matplotlib.gridspec import GridSpec\n",
    "#%%\n",
    "plt.rcParams['text.usetex'] = True\n",
    "plt.rcParams['mathtext.fontset'] = 'stix'\n",
    "plt.rcParams['font.family'] = 'STIXGeneral'\n",
    "plt.rcParams['font.size'] = 14\n",
    "plt.rcParams['contour.negative_linestyle'] = 'solid'"
   ]
  },
  {
   "cell_type": "code",
   "execution_count": 2,
   "metadata": {},
   "outputs": [],
   "source": [
    "#%% LOAD MET DATA\n",
    "\n",
    "filename = '/data/pacific/jacob/LATMIXDYE/LATMIX/LES_COARE35_forcing.mat' # Front run\n",
    "matfile = spio.loadmat(filename,struct_as_record=False, squeeze_me=True)\n",
    "# List all groups\n",
    "yearday = matfile['yearday']\n",
    "tau_cs = matfile['tau_cs']\n",
    "tau_d = matfile['tau_d']\n",
    "qnet = matfile['net_heat_flux']\n",
    "tmag = np.sqrt(tau_cs**2 + tau_d**2)\n",
    "\n",
    "\n",
    "#%% LOAD SST MAP\n",
    "\n",
    "filename = '/data/pacific/jacob/LATMIXDYE/SatData/AVHRR493data.mat'\n",
    "matfile = spio.loadmat(filename,struct_as_record=False, squeeze_me=True)\n",
    "\n",
    "sstdatafile=matfile['sstdata']\n",
    "\n",
    "temp0 = sstdatafile[0]\n",
    "temp1 = sstdatafile[1]\n",
    "temp2 = sstdatafile[2]\n",
    "\n",
    "sstdata = temp0.sst\n",
    "sst=(sstdata.bytes-0.5)*sstdata.scale; \n",
    "sst[sst<0] = np.nan; \n",
    "sst=sst+sstdata.min\n",
    "\n",
    "latgrid = temp0.subset.latgrid\n",
    "longrid = temp0.subset.lonEgrid\n",
    "\n",
    "latlimr = np.argmin(np.abs(latgrid-38))\n",
    "latliml = np.argmin(np.abs(latgrid-40))\n",
    "lonliml = np.argmin(np.abs(longrid+66))\n",
    "lonlimr = np.argmin(np.abs(longrid+62))\n",
    "\n",
    "#%% LOAD DYE DATA (GRIDDED IN DEPTH BY M. SUNDERMEYER)\n",
    "\n",
    "filename = '/data/pacific/jacob/LATMIXDYE/LatMix_2012_Transfer/my_triaxus_SI2'\n",
    "matfile = spio.loadmat(filename,struct_as_record=True, squeeze_me=True)\n",
    "\n",
    "latK = matfile['lat_ts']\n",
    "lonK = matfile['lon_ts']\n",
    "\n",
    "depth = matfile['DEPTH']\n",
    "fluorppb = matfile['FLUORPPB']\n",
    "shiplog = matfile['SHIPLOG']\n",
    "rho = matfile['PDENS']\n",
    "jday = matfile['JDAY']\n",
    "lat = matfile['LAT']\n",
    "lon = matfile['LON']\n",
    "II = matfile['II'] # This indexes individual gulf stream crossings\n",
    "\n",
    "fluorppb[np.isnan(fluorppb)] = 0\n",
    "fluorppb[fluorppb<0] = 0\n",
    "fluorppb[fluorppb==0] = 1e-10\n",
    "nd, ns = shiplog.shape\n",
    "\n",
    "#%% LOAD TIMESERIES DATA (UNGRIDDED)\n",
    "\n",
    "jday_ts = matfile['jday_ts']\n",
    "fluorppb_ts = matfile['fluorPPB_ts']\n",
    "depth_ts = matfile['depth_ts']\n",
    "lat_ts = matfile['lat_ts']\n",
    "lon_ts = matfile['lon_ts']\n",
    "rho_ts = matfile['pdens_ts']\n",
    "T_ts = matfile['T_ts']\n",
    "S_ts = matfile['S_ts']\n",
    "ii = matfile['ii'] # This indexes individual gulf stream crossings\n",
    "\n",
    "#%% LOAD FLOAT DATA\n",
    "filename = '/data/pacific/jacob/LATMIXDYE/FloatData_Transfer/Mar05_SI_2_Track.mat'\n",
    "matfile = spio.loadmat(filename,struct_as_record=False, squeeze_me=True)\n",
    "floatstruct = matfile['F']\n",
    "flat = floatstruct.lat\n",
    "flon = floatstruct.lon\n",
    "fyd = floatstruct.yd-1 #Craig convention\n",
    "\n",
    "fyds = floatstruct.yds - 1\n",
    "flats = floatstruct.lats\n",
    "flons = floatstruct.lons\n",
    "\n",
    "\n",
    "#fvellat = np.gradient(flats)/np.gradient(fyds*86400)\n",
    "#fvellon = np.gradient(flons)/ np.gradient(fyds*86400)\n",
    "#fdir = np.arctan2(fvellat, fvellon)\n",
    "\n",
    "filename = '/data/pacific/jacob/LATMIXDYE/FloatData_Transfer/Env.mat'\n",
    "matfile = spio.loadmat(filename,struct_as_record=False, squeeze_me=True)\n",
    "fT = matfile['T']\n",
    "fS = matfile['S']\n",
    "fT = np.mean(fT, axis=-1)# Top and bottom sensors\n",
    "fS = np.mean(fS, axis=-1)\n",
    "fydr = matfile['yd'] - 1\n",
    "fP = matfile['P']"
   ]
  },
  {
   "cell_type": "code",
   "execution_count": 3,
   "metadata": {},
   "outputs": [],
   "source": [
    "# Projection routine for taking a lat, lon coordinate, and projecting it into the coordinate normal to the float direction\n",
    "# By default this uses epsg:26920 (zone 20 UTM), but can also send other projections\n",
    "# Naive projection is just to directly convert to meters (projection='naive')\n",
    "\n",
    "import pyproj as proj\n",
    "\n",
    "def projection(x,y,theta): #x, y, are ship track, theta is the direction of the float velocity\n",
    "    on = np.array([np.cos(theta), np.sin(theta)]) # unit vector of direction\n",
    "    pj = (np.dot(np.array([x,y]).T, on)*on[:,np.newaxis])\n",
    "    return pj\n",
    "\n",
    "def rejection(x,y,theta): # orthogonal component of ships track\n",
    "    pj = projection(x,y,theta)\n",
    "    return np.array([x,y]) - pj\n",
    "\n",
    "def projecDims(x,y,mfx, mfy, theta): #returns the distance in the float-normal, with 0=float location\n",
    "    on = np.array([np.cos(theta), np.sin(theta)]) #unit vector of float DIRECTION (diff from position)\n",
    "    pj = projection(x,y, theta) #get portion of ship track in direction of float travel\n",
    "    rj = rejection(x,y,theta) # get portion of ship track in direction normal to float travel\n",
    "    fj = rejection(np.array([mfx]),np.array([mfy]), theta) # get portion of float-ship intersection normal to float travel\n",
    "    \n",
    "    distrej = np.dot(rj.T, np.array([-np.sin(theta), np.cos(theta)])) #get the distance of the ship track normal to float dir\n",
    "    distfloat = np.dot(fj.T, np.array([-np.sin(theta), np.cos(theta)])) #get the distance of float-ship intersection normal to float dir\n",
    "    return distrej-distfloat # return the difference between the two (this centers y=0 as the position of the float-ship intersection)\n",
    "\n",
    "#Call to convert lat-lon to float orthogonal coordinate system, returns ortho distance \n",
    "# projection defines the type of projection from lat-lon -> local is most locally accurate\n",
    "def projectCoords(lat, lon, flat, flon, ftime, projection='epsg:26920'):\n",
    "    print(f\"Projection type: {projection}\")\n",
    "    if projection == 'naive': # Directly convert to meters\n",
    "        y = (lat)*111e3 \n",
    "        x = (lon*np.cos(lat*np.pi/180))*111e3\n",
    "        fy = flat*111e3\n",
    "        fx = flon*111e3*np.cos(flat*np.pi/180)\n",
    "    elif projection=='local':\n",
    "        crs_wgs = proj.Proj(init='epsg:4326')  # assuming you're using WGS84 geographic\n",
    "        #Erect own local flat cartesian coordinate system around mean lat/lon\n",
    "        cust = proj.Proj(\"+proj=aeqd +lat_0={0} +lon_0={1} +datum=WGS84 +units=m\".format(np.nanmean(lat), np.nanmean(lon)))\n",
    "        x, y = proj.transform(crs_wgs, cust, lon, lat)\n",
    "        fx, fy = proj.transform(crs_wgs, cust, flon, flat)\n",
    "    else: # Use a UTM projection\n",
    "        transformer = proj.Transformer.from_crs('epsg:4326', projection, always_xy=True)\n",
    "        x, y = transformer.transform(lon, lat)\n",
    "        fx, fy = transformer.transform(flon, flat)\n",
    "        \n",
    "    # The triaxus trails the ship (which is where the lat/lon points are). \n",
    "    # Craig estimates that for this deployment the offset to the ship is ~800m.\n",
    "    # For the purpose of plotting we use 800 m offset opposite the ships direction of travel.\n",
    "    # Note that this does not affect the quantitative calculations (ie. 2nd moment)\n",
    "    angship = np.arctan2(np.gradient(y, axis=-1), np.gradient(x, axis=-1)) # angle of ship travel\n",
    "    triaxus_off = 800 # distance in meters the triaxus trails the ship\n",
    "    x = x - triaxus_off*np.cos(angship) # shift the position to triaxus location\n",
    "    y = y - triaxus_off*np.sin(angship)\n",
    "    # Here we calculate the float direction of travel\n",
    "    fxv = np.gradient(fx)/np.gradient(ftime*86400) # Calculate float velocity\n",
    "    fyv = np.gradient(fy)/np.gradient(ftime*86400)\n",
    "    #fxvm = (np.interp(np.nanmean(jday[:,span]), ftime, fxv)) # Interpolate float velocity to the mean section time\n",
    "    #fyvm = (np.interp(np.nanmean(jday[:,span]), ftime, fyv))\n",
    "    fxvm = np.mean(np.interp(jday_ts[span_ts], ftime, fxv))\n",
    "    fyvm = np.mean(np.interp(jday_ts[span_ts], ftime, fyv))\n",
    "    theta = np.arctan2(fyvm, fxvm) # Get the angle of the mean float velocity\n",
    "\n",
    "\n",
    "    #meanfloaty = np.interp(np.nanmean(jday[:,span]), ftime, fy) # What is the float lat during the survey average?\n",
    "    #meanfloatx = np.interp(np.nanmean(jday[:,span]), ftime, fx) # What is the float lon during the survey average?\n",
    "    #print(meanfloatx); print(meanfloaty)\n",
    "    \n",
    "    \n",
    "    #xi = x.ravel()\n",
    "    #yi = y.ravel()\n",
    "    #m = np.isfinite(xi+yi) \n",
    "    #fxi = np.interp(jday[:,span].ravel(), fyds, fx)\n",
    "    #fyi = np.interp(jday[:,span].ravel(), fyds, fy)\n",
    "    #cx = np.nanargmin((fxi-xi)**2+(fyi-yi)**2)\n",
    "\n",
    "    #xf = np.linspace(-1e5, 1e5)*np.cos(theta) + meanfloatx \n",
    "    #yf = np.linspace(-1e5, 1e5)*np.sin(theta) + meanfloaty\n",
    "    \n",
    "    # Float positions are less frequently sampled, interpolate them to the triaxus times\n",
    "    xf = np.interp(np.nanmean(jday[:,span], axis=0), ftime, fx)\n",
    "    yf = np.interp(np.nanmean(jday[:,span], axis=0), ftime, fy)\n",
    "    # Here we look for the intersection of the ship track and float track, and treat that as y=0.\n",
    "    xs = np.nanmean(x, axis=0)\n",
    "    ys = np.nanmean(y, axis=0)\n",
    "    first_line = LineString(np.column_stack((xs, ys)))\n",
    "    second_line = LineString(np.column_stack((xf, yf)))\n",
    "    intersection = first_line.intersection(second_line)\n",
    "    meanfloatx = intersection.xy[0][-1]\n",
    "    meanfloaty = intersection.xy[1][-1]\n",
    "    \n",
    "    # Rotate coordinate system into along-float direction (x), and across-float direction (y)\n",
    "    #rotatedpoints = (x*np.cos(theta)+y*np.sin(theta), -x*np.sin(theta)+y*np.cos(theta))\n",
    "\n",
    "    #ang = np.arctan2(y, x)\n",
    "    #angdiff = ang-theta\n",
    "    #offsetlength = np.sqrt(meanfloatx**2+meanfloaty**2)*np.cos(angdiff)\n",
    "    #offsetx = offsetlength*np.cos(ang); offsety = offsetlength*np.sin(ang)\n",
    "    #rotatedoff = (offsetx*np.cos(theta)+offsety*np.sin(theta), -offsetx*np.sin(theta)+offsety*np.cos(theta))\n",
    "    #rx = rotatedpoints[0] - rotatedoff[0]; ry = rotatedpoints[1]-rotatedoff[1]\n",
    "\n",
    "    ns = x.shape[-1]\n",
    "    ry = np.zeros(x.shape)\n",
    "    for i in range(0, ns):\n",
    "        ry[:,i] = projecDims(x[:,i],y[:,i],meanfloatx, meanfloaty, theta)\n",
    "    \n",
    "    return 0*ry/1000, ry/1000\n"
   ]
  },
  {
   "cell_type": "code",
   "execution_count": 6,
   "metadata": {},
   "outputs": [],
   "source": [
    "# Project a section by crossing number into the float-normal coordinate system and interpolate to uniform grid\n",
    "\n",
    "def getProjectedSection(crossing):\n",
    "    span = range(II[crossing,0], II[crossing,1])\n",
    "    span_ts = range(ii[crossing,0], ii[crossing,1])\n",
    "\n",
    "    values = fluorppb[:,span]\n",
    "    values[values<=0] = 1e-10 # Put a small value for plotting the log_10 values\n",
    "    values = values/np.nanmax(fluorppb) # Normalize by the maximum observed concentration\n",
    "    # Project to float normal coordinate system\n",
    "    rx, shiplogc = projectCoords(lat[:,span], lon[:,span], floatstruct.lats, floatstruct.lons, fyds, projection='local')\n",
    "\n",
    "    # Interpolate the data\n",
    "    grid_x = np.linspace(-6, 6, 12*4) # Choose the cross-float gridding\n",
    "    grid_y = depth[:,1] # Here we are using the gridded data from Miles, so no re-interpolation in z\n",
    "    GX, GY = np.meshgrid(grid_x, grid_y)\n",
    "\n",
    "    # Rather than doing a 2D interpolation (or objective mapping), we simply interpolate horizontally at each depth\n",
    "    # The alternate approaches were tested, but found to be very sensitive to the subjective choices. This is the simplest approach.\n",
    "    deps = depth_ts[span]\n",
    "    grc = np.zeros((grid_y.size, grid_x.size)) # grc will be the interpolated, normalized, dye concentration\n",
    "    R = np.zeros((grid_y.size, grid_x.size)) # R will be the interpolated density\n",
    "    sl = shiplogc # cross-float coordinates\n",
    "\n",
    "    for i in range(0, grid_y.size): # for each depth\n",
    "        vtemp = values[i,:] # concentration at the depth\n",
    "        rtemp = rho[i,span] # density at the depth\n",
    "        stemp = sl[i,:] # cross-float position at the depth\n",
    "        m = (np.isfinite(vtemp)) #& ~(np.insert(np.diff(stemp), 0, 0) <0) # not all values are finite\n",
    "        stemp = stemp[m]\n",
    "        vtemp = vtemp[m]\n",
    "        rtemp = rtemp[m]\n",
    "        # For the dye use a nearest neighbor interpolation, for density we use linear interp\n",
    "        grc[i, :] = interp.interp1d(stemp, vtemp, kind='nearest',bounds_error=False, assume_sorted=False)(grid_x)\n",
    "        R[i, :] = interp.interp1d(stemp, rtemp, kind='linear',bounds_error=False)(grid_x)\n",
    "\n",
    "    #points = (shiplogc.ravel(), depth[:,span].ravel() )\n",
    "    #rhov = rho[:,span].ravel()\n",
    "    #mask = np.isfinite(shiplogc.ravel() + depth[:,span].ravel()+rho[:,span].ravel())\n",
    "    #R = griddata((shiplogc.ravel()[mask], depth[:,span].ravel()[mask]), rhov[mask], (GX, GY), method='linear', rescale=True)\n",
    "\n",
    "    ## Here we need to do some masking of the interpolation (which can effectively extrapolate in unphysical ways)\n",
    "    # Create mask of upper most depths (we don't want to extrapolate above tow-yo depths)\n",
    "    depthnorm = depth[:,span]\n",
    "    sli = np.zeros((len(span),))\n",
    "    depthi = np.zeros((len(span)))\n",
    "    for i in range(0,len(span)):\n",
    "        depthi[i] = depth[np.where(np.isfinite(shiplog[:,span[i]]))[0][0],span[i]]\n",
    "        sli[i] = shiplogc[np.where(np.isfinite(shiplog[:,span[i]]))[0][0],i]\n",
    "    mindsi = interp.interp1d(sli, depthi, kind='linear', bounds_error=False, fill_value='extrapolate')(grid_x)\n",
    "    mindgrid = np.tile(mindsi, (grid_y.size, 1))\n",
    "    grc[GY<mindgrid] = np.nan\n",
    "    R[GY<mindgrid] = np.nan\n",
    "    # Mask the bottom of the domain\n",
    "    sli = np.zeros((len(span),))\n",
    "    depthi = np.zeros((len(span)))\n",
    "    for i in range(0,len(span)):\n",
    "        depthi[i] = depth[np.where(np.isfinite(shiplog[:,span[i]]))[0][-1],span[i]]\n",
    "        sli[i] = shiplogc[np.where(np.isfinite(shiplog[:,span[i]]))[0][-1],i]\n",
    "    mindsi = interp.interp1d(sli, depthi, kind='linear', bounds_error=False, fill_value='extrapolate')(grid_x)\n",
    "    mindgrid = np.tile(mindsi, (grid_y.size, 1))\n",
    "    grc[GY>mindgrid] = np.nan\n",
    "\n",
    "    #Mask values outside the survey distance (y) direction\n",
    "    grc[GX>np.nanmax(shiplogc)] = np.nan\n",
    "    maxx = np.zeros((len(GX),))\n",
    "    minx = np.zeros((len(GX),))\n",
    "    for i in range(0,len(GX)):\n",
    "        stemp = np.sort(shiplogc[i,:])\n",
    "        #print(stemp)\n",
    "        inds = np.where(np.isfinite(stemp))[0]\n",
    "        if inds.size>0:\n",
    "            maxx[i] = stemp[inds[-1]]\n",
    "            minx[i] = stemp[inds[0]]\n",
    "    maxxi = np.tile(maxx, (grid_x.shape[-1], 1)).T\n",
    "    minxi = np.tile(minx, (grid_x.shape[-1], 1)).T\n",
    "    grc[GX>maxxi] = np.nan\n",
    "    grc[GX<minxi] = np.nan\n",
    "    R[GX>maxxi] = np.nan\n",
    "    R[GX<minxi] = np.nan\n",
    "    \n",
    "    #m = GX[0:300,:] >= np.nanmax(shiplogc[0:200,:])\n",
    "    #gctemp = grc[0:300,:]\n",
    "    #gctemp[m] = np.nan\n",
    "    #grc[0:300,:] = gctemp\n",
    "#for i in range(0,depth.shape[0]):\n",
    "#    maxx = np.nanmax(shiplogc[i,:])\n",
    "#    m = GX[i,:]>maxx\n",
    "#    grc[i,m] = np.nan\n",
    "#R[GX>np.max(points[0])] = np.nan\n",
    "    shiplogobs = shiplogc.ravel()\n",
    "    depthobs = depth[:,span].ravel()\n",
    "    m = np.isfinite(shiplogobs+depthobs)\n",
    "    shiplogobs = shiplogobs[m] # This, and the depthobs, can be used to plot the tow-yo location in the projected coords\n",
    "    depthobs = depthobs[m]\n",
    "    return GX, GY, grc, R, shiplogobs, depthobs\n",
    "\n"
   ]
  },
  {
   "cell_type": "code",
   "execution_count": 32,
   "metadata": {
    "scrolled": false
   },
   "outputs": [
    {
     "name": "stdout",
     "output_type": "stream",
     "text": [
      "59\n",
      "Projection type: local\n"
     ]
    },
    {
     "name": "stderr",
     "output_type": "stream",
     "text": [
      "/homes/metofac/wenegrat/miniconda3/envs/latmix/lib/python3.6/site-packages/pyproj/crs/crs.py:55: FutureWarning: '+init=<authority>:<code>' syntax is deprecated. '<authority>:<code>' is the preferred initialization method. When making the change, be mindful of axis order changes: https://pyproj4.github.io/pyproj/stable/gotchas.html#axis-order-changes-in-proj-6\n",
      "  return _prepare_from_string(\" \".join(pjargs))\n",
      "/homes/metofac/wenegrat/miniconda3/envs/latmix/lib/python3.6/site-packages/scipy/interpolate/interpolate.py:687: RuntimeWarning: invalid value encountered in less\n",
      "  below_bounds = x_new < self.x[0]\n",
      "/homes/metofac/wenegrat/miniconda3/envs/latmix/lib/python3.6/site-packages/scipy/interpolate/interpolate.py:688: RuntimeWarning: invalid value encountered in greater\n",
      "  above_bounds = x_new > self.x[-1]\n",
      "/homes/metofac/wenegrat/miniconda3/envs/latmix/lib/python3.6/site-packages/ipykernel_launcher.py:52: RuntimeWarning: invalid value encountered in less\n",
      "/homes/metofac/wenegrat/miniconda3/envs/latmix/lib/python3.6/site-packages/ipykernel_launcher.py:53: RuntimeWarning: invalid value encountered in less\n",
      "/homes/metofac/wenegrat/miniconda3/envs/latmix/lib/python3.6/site-packages/ipykernel_launcher.py:62: RuntimeWarning: invalid value encountered in greater\n",
      "/homes/metofac/wenegrat/miniconda3/envs/latmix/lib/python3.6/site-packages/ipykernel_launcher.py:148: UserWarning: This figure includes Axes that are not compatible with tight_layout, so results might be incorrect.\n"
     ]
    },
    {
     "name": "stdout",
     "output_type": "stream",
     "text": [
      "60\n",
      "Projection type: local\n"
     ]
    },
    {
     "name": "stderr",
     "output_type": "stream",
     "text": [
      "/homes/metofac/wenegrat/miniconda3/envs/latmix/lib/python3.6/site-packages/pyproj/crs/crs.py:55: FutureWarning: '+init=<authority>:<code>' syntax is deprecated. '<authority>:<code>' is the preferred initialization method. When making the change, be mindful of axis order changes: https://pyproj4.github.io/pyproj/stable/gotchas.html#axis-order-changes-in-proj-6\n",
      "  return _prepare_from_string(\" \".join(pjargs))\n",
      "/homes/metofac/wenegrat/miniconda3/envs/latmix/lib/python3.6/site-packages/scipy/interpolate/interpolate.py:687: RuntimeWarning: invalid value encountered in less\n",
      "  below_bounds = x_new < self.x[0]\n",
      "/homes/metofac/wenegrat/miniconda3/envs/latmix/lib/python3.6/site-packages/scipy/interpolate/interpolate.py:688: RuntimeWarning: invalid value encountered in greater\n",
      "  above_bounds = x_new > self.x[-1]\n",
      "/homes/metofac/wenegrat/miniconda3/envs/latmix/lib/python3.6/site-packages/ipykernel_launcher.py:52: RuntimeWarning: invalid value encountered in less\n",
      "/homes/metofac/wenegrat/miniconda3/envs/latmix/lib/python3.6/site-packages/ipykernel_launcher.py:53: RuntimeWarning: invalid value encountered in less\n",
      "/homes/metofac/wenegrat/miniconda3/envs/latmix/lib/python3.6/site-packages/ipykernel_launcher.py:62: RuntimeWarning: invalid value encountered in greater\n",
      "/homes/metofac/wenegrat/miniconda3/envs/latmix/lib/python3.6/site-packages/ipykernel_launcher.py:148: UserWarning: This figure includes Axes that are not compatible with tight_layout, so results might be incorrect.\n"
     ]
    },
    {
     "name": "stdout",
     "output_type": "stream",
     "text": [
      "61\n",
      "Projection type: local\n"
     ]
    },
    {
     "name": "stderr",
     "output_type": "stream",
     "text": [
      "/homes/metofac/wenegrat/miniconda3/envs/latmix/lib/python3.6/site-packages/pyproj/crs/crs.py:55: FutureWarning: '+init=<authority>:<code>' syntax is deprecated. '<authority>:<code>' is the preferred initialization method. When making the change, be mindful of axis order changes: https://pyproj4.github.io/pyproj/stable/gotchas.html#axis-order-changes-in-proj-6\n",
      "  return _prepare_from_string(\" \".join(pjargs))\n",
      "/homes/metofac/wenegrat/miniconda3/envs/latmix/lib/python3.6/site-packages/scipy/interpolate/interpolate.py:687: RuntimeWarning: invalid value encountered in less\n",
      "  below_bounds = x_new < self.x[0]\n",
      "/homes/metofac/wenegrat/miniconda3/envs/latmix/lib/python3.6/site-packages/scipy/interpolate/interpolate.py:688: RuntimeWarning: invalid value encountered in greater\n",
      "  above_bounds = x_new > self.x[-1]\n",
      "/homes/metofac/wenegrat/miniconda3/envs/latmix/lib/python3.6/site-packages/ipykernel_launcher.py:52: RuntimeWarning: invalid value encountered in less\n",
      "/homes/metofac/wenegrat/miniconda3/envs/latmix/lib/python3.6/site-packages/ipykernel_launcher.py:53: RuntimeWarning: invalid value encountered in less\n",
      "/homes/metofac/wenegrat/miniconda3/envs/latmix/lib/python3.6/site-packages/ipykernel_launcher.py:62: RuntimeWarning: invalid value encountered in greater\n",
      "/homes/metofac/wenegrat/miniconda3/envs/latmix/lib/python3.6/site-packages/ipykernel_launcher.py:148: UserWarning: This figure includes Axes that are not compatible with tight_layout, so results might be incorrect.\n"
     ]
    },
    {
     "name": "stdout",
     "output_type": "stream",
     "text": [
      "62\n",
      "Projection type: local\n"
     ]
    },
    {
     "name": "stderr",
     "output_type": "stream",
     "text": [
      "/homes/metofac/wenegrat/miniconda3/envs/latmix/lib/python3.6/site-packages/pyproj/crs/crs.py:55: FutureWarning: '+init=<authority>:<code>' syntax is deprecated. '<authority>:<code>' is the preferred initialization method. When making the change, be mindful of axis order changes: https://pyproj4.github.io/pyproj/stable/gotchas.html#axis-order-changes-in-proj-6\n",
      "  return _prepare_from_string(\" \".join(pjargs))\n",
      "/homes/metofac/wenegrat/miniconda3/envs/latmix/lib/python3.6/site-packages/scipy/interpolate/interpolate.py:687: RuntimeWarning: invalid value encountered in less\n",
      "  below_bounds = x_new < self.x[0]\n",
      "/homes/metofac/wenegrat/miniconda3/envs/latmix/lib/python3.6/site-packages/scipy/interpolate/interpolate.py:688: RuntimeWarning: invalid value encountered in greater\n",
      "  above_bounds = x_new > self.x[-1]\n",
      "/homes/metofac/wenegrat/miniconda3/envs/latmix/lib/python3.6/site-packages/ipykernel_launcher.py:52: RuntimeWarning: invalid value encountered in less\n",
      "/homes/metofac/wenegrat/miniconda3/envs/latmix/lib/python3.6/site-packages/ipykernel_launcher.py:53: RuntimeWarning: invalid value encountered in less\n",
      "/homes/metofac/wenegrat/miniconda3/envs/latmix/lib/python3.6/site-packages/ipykernel_launcher.py:62: RuntimeWarning: invalid value encountered in greater\n",
      "/homes/metofac/wenegrat/miniconda3/envs/latmix/lib/python3.6/site-packages/ipykernel_launcher.py:148: UserWarning: This figure includes Axes that are not compatible with tight_layout, so results might be incorrect.\n"
     ]
    },
    {
     "name": "stdout",
     "output_type": "stream",
     "text": [
      "63\n",
      "Projection type: local\n"
     ]
    },
    {
     "name": "stderr",
     "output_type": "stream",
     "text": [
      "/homes/metofac/wenegrat/miniconda3/envs/latmix/lib/python3.6/site-packages/pyproj/crs/crs.py:55: FutureWarning: '+init=<authority>:<code>' syntax is deprecated. '<authority>:<code>' is the preferred initialization method. When making the change, be mindful of axis order changes: https://pyproj4.github.io/pyproj/stable/gotchas.html#axis-order-changes-in-proj-6\n",
      "  return _prepare_from_string(\" \".join(pjargs))\n",
      "/homes/metofac/wenegrat/miniconda3/envs/latmix/lib/python3.6/site-packages/scipy/interpolate/interpolate.py:687: RuntimeWarning: invalid value encountered in less\n",
      "  below_bounds = x_new < self.x[0]\n",
      "/homes/metofac/wenegrat/miniconda3/envs/latmix/lib/python3.6/site-packages/scipy/interpolate/interpolate.py:688: RuntimeWarning: invalid value encountered in greater\n",
      "  above_bounds = x_new > self.x[-1]\n",
      "/homes/metofac/wenegrat/miniconda3/envs/latmix/lib/python3.6/site-packages/ipykernel_launcher.py:52: RuntimeWarning: invalid value encountered in less\n",
      "/homes/metofac/wenegrat/miniconda3/envs/latmix/lib/python3.6/site-packages/ipykernel_launcher.py:53: RuntimeWarning: invalid value encountered in less\n",
      "/homes/metofac/wenegrat/miniconda3/envs/latmix/lib/python3.6/site-packages/ipykernel_launcher.py:62: RuntimeWarning: invalid value encountered in greater\n",
      "/homes/metofac/wenegrat/miniconda3/envs/latmix/lib/python3.6/site-packages/ipykernel_launcher.py:148: UserWarning: This figure includes Axes that are not compatible with tight_layout, so results might be incorrect.\n"
     ]
    },
    {
     "name": "stdout",
     "output_type": "stream",
     "text": [
      "64\n",
      "Projection type: local\n"
     ]
    },
    {
     "name": "stderr",
     "output_type": "stream",
     "text": [
      "/homes/metofac/wenegrat/miniconda3/envs/latmix/lib/python3.6/site-packages/pyproj/crs/crs.py:55: FutureWarning: '+init=<authority>:<code>' syntax is deprecated. '<authority>:<code>' is the preferred initialization method. When making the change, be mindful of axis order changes: https://pyproj4.github.io/pyproj/stable/gotchas.html#axis-order-changes-in-proj-6\n",
      "  return _prepare_from_string(\" \".join(pjargs))\n",
      "/homes/metofac/wenegrat/miniconda3/envs/latmix/lib/python3.6/site-packages/scipy/interpolate/interpolate.py:687: RuntimeWarning: invalid value encountered in less\n",
      "  below_bounds = x_new < self.x[0]\n",
      "/homes/metofac/wenegrat/miniconda3/envs/latmix/lib/python3.6/site-packages/scipy/interpolate/interpolate.py:688: RuntimeWarning: invalid value encountered in greater\n",
      "  above_bounds = x_new > self.x[-1]\n",
      "/homes/metofac/wenegrat/miniconda3/envs/latmix/lib/python3.6/site-packages/ipykernel_launcher.py:52: RuntimeWarning: invalid value encountered in less\n",
      "/homes/metofac/wenegrat/miniconda3/envs/latmix/lib/python3.6/site-packages/ipykernel_launcher.py:53: RuntimeWarning: invalid value encountered in less\n",
      "/homes/metofac/wenegrat/miniconda3/envs/latmix/lib/python3.6/site-packages/ipykernel_launcher.py:62: RuntimeWarning: invalid value encountered in greater\n",
      "/homes/metofac/wenegrat/miniconda3/envs/latmix/lib/python3.6/site-packages/ipykernel_launcher.py:148: UserWarning: This figure includes Axes that are not compatible with tight_layout, so results might be incorrect.\n"
     ]
    },
    {
     "name": "stdout",
     "output_type": "stream",
     "text": [
      "65\n",
      "Projection type: local\n"
     ]
    },
    {
     "name": "stderr",
     "output_type": "stream",
     "text": [
      "/homes/metofac/wenegrat/miniconda3/envs/latmix/lib/python3.6/site-packages/pyproj/crs/crs.py:55: FutureWarning: '+init=<authority>:<code>' syntax is deprecated. '<authority>:<code>' is the preferred initialization method. When making the change, be mindful of axis order changes: https://pyproj4.github.io/pyproj/stable/gotchas.html#axis-order-changes-in-proj-6\n",
      "  return _prepare_from_string(\" \".join(pjargs))\n",
      "/homes/metofac/wenegrat/miniconda3/envs/latmix/lib/python3.6/site-packages/scipy/interpolate/interpolate.py:687: RuntimeWarning: invalid value encountered in less\n",
      "  below_bounds = x_new < self.x[0]\n",
      "/homes/metofac/wenegrat/miniconda3/envs/latmix/lib/python3.6/site-packages/scipy/interpolate/interpolate.py:688: RuntimeWarning: invalid value encountered in greater\n",
      "  above_bounds = x_new > self.x[-1]\n",
      "/homes/metofac/wenegrat/miniconda3/envs/latmix/lib/python3.6/site-packages/ipykernel_launcher.py:52: RuntimeWarning: invalid value encountered in less\n",
      "/homes/metofac/wenegrat/miniconda3/envs/latmix/lib/python3.6/site-packages/ipykernel_launcher.py:53: RuntimeWarning: invalid value encountered in less\n",
      "/homes/metofac/wenegrat/miniconda3/envs/latmix/lib/python3.6/site-packages/ipykernel_launcher.py:62: RuntimeWarning: invalid value encountered in greater\n",
      "/homes/metofac/wenegrat/miniconda3/envs/latmix/lib/python3.6/site-packages/ipykernel_launcher.py:148: UserWarning: This figure includes Axes that are not compatible with tight_layout, so results might be incorrect.\n"
     ]
    },
    {
     "name": "stdout",
     "output_type": "stream",
     "text": [
      "66\n",
      "Projection type: local\n"
     ]
    },
    {
     "name": "stderr",
     "output_type": "stream",
     "text": [
      "/homes/metofac/wenegrat/miniconda3/envs/latmix/lib/python3.6/site-packages/pyproj/crs/crs.py:55: FutureWarning: '+init=<authority>:<code>' syntax is deprecated. '<authority>:<code>' is the preferred initialization method. When making the change, be mindful of axis order changes: https://pyproj4.github.io/pyproj/stable/gotchas.html#axis-order-changes-in-proj-6\n",
      "  return _prepare_from_string(\" \".join(pjargs))\n",
      "/homes/metofac/wenegrat/miniconda3/envs/latmix/lib/python3.6/site-packages/scipy/interpolate/interpolate.py:687: RuntimeWarning: invalid value encountered in less\n",
      "  below_bounds = x_new < self.x[0]\n",
      "/homes/metofac/wenegrat/miniconda3/envs/latmix/lib/python3.6/site-packages/scipy/interpolate/interpolate.py:688: RuntimeWarning: invalid value encountered in greater\n",
      "  above_bounds = x_new > self.x[-1]\n",
      "/homes/metofac/wenegrat/miniconda3/envs/latmix/lib/python3.6/site-packages/ipykernel_launcher.py:52: RuntimeWarning: invalid value encountered in less\n",
      "/homes/metofac/wenegrat/miniconda3/envs/latmix/lib/python3.6/site-packages/ipykernel_launcher.py:53: RuntimeWarning: invalid value encountered in less\n",
      "/homes/metofac/wenegrat/miniconda3/envs/latmix/lib/python3.6/site-packages/ipykernel_launcher.py:62: RuntimeWarning: invalid value encountered in greater\n",
      "/homes/metofac/wenegrat/miniconda3/envs/latmix/lib/python3.6/site-packages/ipykernel_launcher.py:148: UserWarning: This figure includes Axes that are not compatible with tight_layout, so results might be incorrect.\n"
     ]
    },
    {
     "name": "stdout",
     "output_type": "stream",
     "text": [
      "67\n",
      "Projection type: local\n"
     ]
    },
    {
     "name": "stderr",
     "output_type": "stream",
     "text": [
      "/homes/metofac/wenegrat/miniconda3/envs/latmix/lib/python3.6/site-packages/pyproj/crs/crs.py:55: FutureWarning: '+init=<authority>:<code>' syntax is deprecated. '<authority>:<code>' is the preferred initialization method. When making the change, be mindful of axis order changes: https://pyproj4.github.io/pyproj/stable/gotchas.html#axis-order-changes-in-proj-6\n",
      "  return _prepare_from_string(\" \".join(pjargs))\n",
      "/homes/metofac/wenegrat/miniconda3/envs/latmix/lib/python3.6/site-packages/scipy/interpolate/interpolate.py:687: RuntimeWarning: invalid value encountered in less\n",
      "  below_bounds = x_new < self.x[0]\n",
      "/homes/metofac/wenegrat/miniconda3/envs/latmix/lib/python3.6/site-packages/scipy/interpolate/interpolate.py:688: RuntimeWarning: invalid value encountered in greater\n",
      "  above_bounds = x_new > self.x[-1]\n",
      "/homes/metofac/wenegrat/miniconda3/envs/latmix/lib/python3.6/site-packages/ipykernel_launcher.py:52: RuntimeWarning: invalid value encountered in less\n",
      "/homes/metofac/wenegrat/miniconda3/envs/latmix/lib/python3.6/site-packages/ipykernel_launcher.py:53: RuntimeWarning: invalid value encountered in less\n",
      "/homes/metofac/wenegrat/miniconda3/envs/latmix/lib/python3.6/site-packages/ipykernel_launcher.py:62: RuntimeWarning: invalid value encountered in greater\n",
      "/homes/metofac/wenegrat/miniconda3/envs/latmix/lib/python3.6/site-packages/ipykernel_launcher.py:148: UserWarning: This figure includes Axes that are not compatible with tight_layout, so results might be incorrect.\n"
     ]
    },
    {
     "name": "stdout",
     "output_type": "stream",
     "text": [
      "68\n",
      "Projection type: local\n"
     ]
    },
    {
     "name": "stderr",
     "output_type": "stream",
     "text": [
      "/homes/metofac/wenegrat/miniconda3/envs/latmix/lib/python3.6/site-packages/pyproj/crs/crs.py:55: FutureWarning: '+init=<authority>:<code>' syntax is deprecated. '<authority>:<code>' is the preferred initialization method. When making the change, be mindful of axis order changes: https://pyproj4.github.io/pyproj/stable/gotchas.html#axis-order-changes-in-proj-6\n",
      "  return _prepare_from_string(\" \".join(pjargs))\n",
      "/homes/metofac/wenegrat/miniconda3/envs/latmix/lib/python3.6/site-packages/scipy/interpolate/interpolate.py:687: RuntimeWarning: invalid value encountered in less\n",
      "  below_bounds = x_new < self.x[0]\n",
      "/homes/metofac/wenegrat/miniconda3/envs/latmix/lib/python3.6/site-packages/scipy/interpolate/interpolate.py:688: RuntimeWarning: invalid value encountered in greater\n",
      "  above_bounds = x_new > self.x[-1]\n",
      "/homes/metofac/wenegrat/miniconda3/envs/latmix/lib/python3.6/site-packages/ipykernel_launcher.py:52: RuntimeWarning: invalid value encountered in less\n",
      "/homes/metofac/wenegrat/miniconda3/envs/latmix/lib/python3.6/site-packages/ipykernel_launcher.py:53: RuntimeWarning: invalid value encountered in less\n",
      "/homes/metofac/wenegrat/miniconda3/envs/latmix/lib/python3.6/site-packages/ipykernel_launcher.py:62: RuntimeWarning: invalid value encountered in greater\n",
      "/homes/metofac/wenegrat/miniconda3/envs/latmix/lib/python3.6/site-packages/ipykernel_launcher.py:148: UserWarning: This figure includes Axes that are not compatible with tight_layout, so results might be incorrect.\n"
     ]
    },
    {
     "name": "stdout",
     "output_type": "stream",
     "text": [
      "69\n",
      "Projection type: local\n"
     ]
    },
    {
     "name": "stderr",
     "output_type": "stream",
     "text": [
      "/homes/metofac/wenegrat/miniconda3/envs/latmix/lib/python3.6/site-packages/pyproj/crs/crs.py:55: FutureWarning: '+init=<authority>:<code>' syntax is deprecated. '<authority>:<code>' is the preferred initialization method. When making the change, be mindful of axis order changes: https://pyproj4.github.io/pyproj/stable/gotchas.html#axis-order-changes-in-proj-6\n",
      "  return _prepare_from_string(\" \".join(pjargs))\n",
      "/homes/metofac/wenegrat/miniconda3/envs/latmix/lib/python3.6/site-packages/scipy/interpolate/interpolate.py:687: RuntimeWarning: invalid value encountered in less\n",
      "  below_bounds = x_new < self.x[0]\n",
      "/homes/metofac/wenegrat/miniconda3/envs/latmix/lib/python3.6/site-packages/scipy/interpolate/interpolate.py:688: RuntimeWarning: invalid value encountered in greater\n",
      "  above_bounds = x_new > self.x[-1]\n",
      "/homes/metofac/wenegrat/miniconda3/envs/latmix/lib/python3.6/site-packages/ipykernel_launcher.py:52: RuntimeWarning: invalid value encountered in less\n",
      "/homes/metofac/wenegrat/miniconda3/envs/latmix/lib/python3.6/site-packages/ipykernel_launcher.py:53: RuntimeWarning: invalid value encountered in less\n",
      "/homes/metofac/wenegrat/miniconda3/envs/latmix/lib/python3.6/site-packages/ipykernel_launcher.py:62: RuntimeWarning: invalid value encountered in greater\n",
      "/homes/metofac/wenegrat/miniconda3/envs/latmix/lib/python3.6/site-packages/ipykernel_launcher.py:148: UserWarning: This figure includes Axes that are not compatible with tight_layout, so results might be incorrect.\n"
     ]
    },
    {
     "name": "stdout",
     "output_type": "stream",
     "text": [
      "70\n",
      "Projection type: local\n"
     ]
    },
    {
     "name": "stderr",
     "output_type": "stream",
     "text": [
      "/homes/metofac/wenegrat/miniconda3/envs/latmix/lib/python3.6/site-packages/pyproj/crs/crs.py:55: FutureWarning: '+init=<authority>:<code>' syntax is deprecated. '<authority>:<code>' is the preferred initialization method. When making the change, be mindful of axis order changes: https://pyproj4.github.io/pyproj/stable/gotchas.html#axis-order-changes-in-proj-6\n",
      "  return _prepare_from_string(\" \".join(pjargs))\n",
      "/homes/metofac/wenegrat/miniconda3/envs/latmix/lib/python3.6/site-packages/scipy/interpolate/interpolate.py:687: RuntimeWarning: invalid value encountered in less\n",
      "  below_bounds = x_new < self.x[0]\n",
      "/homes/metofac/wenegrat/miniconda3/envs/latmix/lib/python3.6/site-packages/scipy/interpolate/interpolate.py:688: RuntimeWarning: invalid value encountered in greater\n",
      "  above_bounds = x_new > self.x[-1]\n",
      "/homes/metofac/wenegrat/miniconda3/envs/latmix/lib/python3.6/site-packages/ipykernel_launcher.py:52: RuntimeWarning: invalid value encountered in less\n",
      "/homes/metofac/wenegrat/miniconda3/envs/latmix/lib/python3.6/site-packages/ipykernel_launcher.py:53: RuntimeWarning: invalid value encountered in less\n",
      "/homes/metofac/wenegrat/miniconda3/envs/latmix/lib/python3.6/site-packages/ipykernel_launcher.py:62: RuntimeWarning: invalid value encountered in greater\n",
      "/homes/metofac/wenegrat/miniconda3/envs/latmix/lib/python3.6/site-packages/ipykernel_launcher.py:148: UserWarning: This figure includes Axes that are not compatible with tight_layout, so results might be incorrect.\n"
     ]
    },
    {
     "name": "stdout",
     "output_type": "stream",
     "text": [
      "71\n",
      "Projection type: local\n"
     ]
    },
    {
     "name": "stderr",
     "output_type": "stream",
     "text": [
      "/homes/metofac/wenegrat/miniconda3/envs/latmix/lib/python3.6/site-packages/pyproj/crs/crs.py:55: FutureWarning: '+init=<authority>:<code>' syntax is deprecated. '<authority>:<code>' is the preferred initialization method. When making the change, be mindful of axis order changes: https://pyproj4.github.io/pyproj/stable/gotchas.html#axis-order-changes-in-proj-6\n",
      "  return _prepare_from_string(\" \".join(pjargs))\n",
      "/homes/metofac/wenegrat/miniconda3/envs/latmix/lib/python3.6/site-packages/scipy/interpolate/interpolate.py:687: RuntimeWarning: invalid value encountered in less\n",
      "  below_bounds = x_new < self.x[0]\n",
      "/homes/metofac/wenegrat/miniconda3/envs/latmix/lib/python3.6/site-packages/scipy/interpolate/interpolate.py:688: RuntimeWarning: invalid value encountered in greater\n",
      "  above_bounds = x_new > self.x[-1]\n",
      "/homes/metofac/wenegrat/miniconda3/envs/latmix/lib/python3.6/site-packages/ipykernel_launcher.py:52: RuntimeWarning: invalid value encountered in less\n",
      "/homes/metofac/wenegrat/miniconda3/envs/latmix/lib/python3.6/site-packages/ipykernel_launcher.py:53: RuntimeWarning: invalid value encountered in less\n",
      "/homes/metofac/wenegrat/miniconda3/envs/latmix/lib/python3.6/site-packages/ipykernel_launcher.py:62: RuntimeWarning: invalid value encountered in greater\n",
      "/homes/metofac/wenegrat/miniconda3/envs/latmix/lib/python3.6/site-packages/ipykernel_launcher.py:148: UserWarning: This figure includes Axes that are not compatible with tight_layout, so results might be incorrect.\n"
     ]
    },
    {
     "name": "stdout",
     "output_type": "stream",
     "text": [
      "72\n",
      "Projection type: local\n"
     ]
    },
    {
     "name": "stderr",
     "output_type": "stream",
     "text": [
      "/homes/metofac/wenegrat/miniconda3/envs/latmix/lib/python3.6/site-packages/pyproj/crs/crs.py:55: FutureWarning: '+init=<authority>:<code>' syntax is deprecated. '<authority>:<code>' is the preferred initialization method. When making the change, be mindful of axis order changes: https://pyproj4.github.io/pyproj/stable/gotchas.html#axis-order-changes-in-proj-6\n",
      "  return _prepare_from_string(\" \".join(pjargs))\n"
     ]
    },
    {
     "ename": "AttributeError",
     "evalue": "'list' object has no attribute 'xy'",
     "output_type": "error",
     "traceback": [
      "\u001b[0;31m---------------------------------------------------------------------------\u001b[0m",
      "\u001b[0;31mAttributeError\u001b[0m                            Traceback (most recent call last)",
      "\u001b[0;32m<ipython-input-32-ca6a38fa35cb>\u001b[0m in \u001b[0;36m<module>\u001b[0;34m\u001b[0m\n\u001b[1;32m     23\u001b[0m \u001b[0;34m\u001b[0m\u001b[0m\n\u001b[1;32m     24\u001b[0m     \u001b[0;31m# Do all the projection work\u001b[0m\u001b[0;34m\u001b[0m\u001b[0;34m\u001b[0m\u001b[0;34m\u001b[0m\u001b[0m\n\u001b[0;32m---> 25\u001b[0;31m     \u001b[0mXi\u001b[0m\u001b[0;34m,\u001b[0m \u001b[0mYi\u001b[0m\u001b[0;34m,\u001b[0m \u001b[0mCi\u001b[0m\u001b[0;34m,\u001b[0m \u001b[0mRi\u001b[0m\u001b[0;34m,\u001b[0m \u001b[0mshiplogobs\u001b[0m\u001b[0;34m,\u001b[0m \u001b[0mdepthobs\u001b[0m \u001b[0;34m=\u001b[0m \u001b[0mgetProjectedSection\u001b[0m\u001b[0;34m(\u001b[0m\u001b[0mckeeps\u001b[0m\u001b[0;34m[\u001b[0m\u001b[0mi\u001b[0m\u001b[0;34m]\u001b[0m\u001b[0;34m)\u001b[0m\u001b[0;34m\u001b[0m\u001b[0;34m\u001b[0m\u001b[0m\n\u001b[0m\u001b[1;32m     26\u001b[0m \u001b[0;34m\u001b[0m\u001b[0m\n\u001b[1;32m     27\u001b[0m     \u001b[0mXp\u001b[0m \u001b[0;34m=\u001b[0m \u001b[0mnp\u001b[0m\u001b[0;34m.\u001b[0m\u001b[0mzeros\u001b[0m\u001b[0;34m(\u001b[0m\u001b[0mXi\u001b[0m\u001b[0;34m.\u001b[0m\u001b[0mshape\u001b[0m\u001b[0;34m)\u001b[0m\u001b[0;34m\u001b[0m\u001b[0;34m\u001b[0m\u001b[0m\n",
      "\u001b[0;32m<ipython-input-6-d2e0e4764af2>\u001b[0m in \u001b[0;36mgetProjectedSection\u001b[0;34m(crossing)\u001b[0m\n\u001b[1;32m      9\u001b[0m     \u001b[0mvalues\u001b[0m \u001b[0;34m=\u001b[0m \u001b[0mvalues\u001b[0m\u001b[0;34m/\u001b[0m\u001b[0mnp\u001b[0m\u001b[0;34m.\u001b[0m\u001b[0mnanmax\u001b[0m\u001b[0;34m(\u001b[0m\u001b[0mfluorppb\u001b[0m\u001b[0;34m)\u001b[0m \u001b[0;31m# Normalize by the maximum observed concentration\u001b[0m\u001b[0;34m\u001b[0m\u001b[0;34m\u001b[0m\u001b[0m\n\u001b[1;32m     10\u001b[0m     \u001b[0;31m# Project to float normal coordinate system\u001b[0m\u001b[0;34m\u001b[0m\u001b[0;34m\u001b[0m\u001b[0;34m\u001b[0m\u001b[0m\n\u001b[0;32m---> 11\u001b[0;31m     \u001b[0mrx\u001b[0m\u001b[0;34m,\u001b[0m \u001b[0mshiplogc\u001b[0m \u001b[0;34m=\u001b[0m \u001b[0mprojectCoords\u001b[0m\u001b[0;34m(\u001b[0m\u001b[0mlat\u001b[0m\u001b[0;34m[\u001b[0m\u001b[0;34m:\u001b[0m\u001b[0;34m,\u001b[0m\u001b[0mspan\u001b[0m\u001b[0;34m]\u001b[0m\u001b[0;34m,\u001b[0m \u001b[0mlon\u001b[0m\u001b[0;34m[\u001b[0m\u001b[0;34m:\u001b[0m\u001b[0;34m,\u001b[0m\u001b[0mspan\u001b[0m\u001b[0;34m]\u001b[0m\u001b[0;34m,\u001b[0m \u001b[0mfloatstruct\u001b[0m\u001b[0;34m.\u001b[0m\u001b[0mlats\u001b[0m\u001b[0;34m,\u001b[0m \u001b[0mfloatstruct\u001b[0m\u001b[0;34m.\u001b[0m\u001b[0mlons\u001b[0m\u001b[0;34m,\u001b[0m \u001b[0mfyds\u001b[0m\u001b[0;34m,\u001b[0m \u001b[0mprojection\u001b[0m\u001b[0;34m=\u001b[0m\u001b[0;34m'local'\u001b[0m\u001b[0;34m)\u001b[0m\u001b[0;34m\u001b[0m\u001b[0;34m\u001b[0m\u001b[0m\n\u001b[0m\u001b[1;32m     12\u001b[0m \u001b[0;34m\u001b[0m\u001b[0m\n\u001b[1;32m     13\u001b[0m     \u001b[0;31m# Interpolate the data\u001b[0m\u001b[0;34m\u001b[0m\u001b[0;34m\u001b[0m\u001b[0;34m\u001b[0m\u001b[0m\n",
      "\u001b[0;32m<ipython-input-3-a99d109af67a>\u001b[0m in \u001b[0;36mprojectCoords\u001b[0;34m(lat, lon, flat, flon, ftime, projection)\u001b[0m\n\u001b[1;32m     86\u001b[0m     \u001b[0msecond_line\u001b[0m \u001b[0;34m=\u001b[0m \u001b[0mLineString\u001b[0m\u001b[0;34m(\u001b[0m\u001b[0mnp\u001b[0m\u001b[0;34m.\u001b[0m\u001b[0mcolumn_stack\u001b[0m\u001b[0;34m(\u001b[0m\u001b[0;34m(\u001b[0m\u001b[0mxf\u001b[0m\u001b[0;34m,\u001b[0m \u001b[0myf\u001b[0m\u001b[0;34m)\u001b[0m\u001b[0;34m)\u001b[0m\u001b[0;34m)\u001b[0m\u001b[0;34m\u001b[0m\u001b[0;34m\u001b[0m\u001b[0m\n\u001b[1;32m     87\u001b[0m     \u001b[0mintersection\u001b[0m \u001b[0;34m=\u001b[0m \u001b[0mfirst_line\u001b[0m\u001b[0;34m.\u001b[0m\u001b[0mintersection\u001b[0m\u001b[0;34m(\u001b[0m\u001b[0msecond_line\u001b[0m\u001b[0;34m)\u001b[0m\u001b[0;34m\u001b[0m\u001b[0;34m\u001b[0m\u001b[0m\n\u001b[0;32m---> 88\u001b[0;31m     \u001b[0mmeanfloatx\u001b[0m \u001b[0;34m=\u001b[0m \u001b[0mintersection\u001b[0m\u001b[0;34m.\u001b[0m\u001b[0mxy\u001b[0m\u001b[0;34m[\u001b[0m\u001b[0;36m0\u001b[0m\u001b[0;34m]\u001b[0m\u001b[0;34m[\u001b[0m\u001b[0;34m-\u001b[0m\u001b[0;36m1\u001b[0m\u001b[0;34m]\u001b[0m\u001b[0;34m\u001b[0m\u001b[0;34m\u001b[0m\u001b[0m\n\u001b[0m\u001b[1;32m     89\u001b[0m     \u001b[0mmeanfloaty\u001b[0m \u001b[0;34m=\u001b[0m \u001b[0mintersection\u001b[0m\u001b[0;34m.\u001b[0m\u001b[0mxy\u001b[0m\u001b[0;34m[\u001b[0m\u001b[0;36m1\u001b[0m\u001b[0;34m]\u001b[0m\u001b[0;34m[\u001b[0m\u001b[0;34m-\u001b[0m\u001b[0;36m1\u001b[0m\u001b[0;34m]\u001b[0m\u001b[0;34m\u001b[0m\u001b[0;34m\u001b[0m\u001b[0m\n\u001b[1;32m     90\u001b[0m \u001b[0;34m\u001b[0m\u001b[0m\n",
      "\u001b[0;32m~/miniconda3/envs/latmix/lib/python3.6/site-packages/shapely/geometry/linestring.py\u001b[0m in \u001b[0;36mxy\u001b[0;34m(self)\u001b[0m\n\u001b[1;32m    113\u001b[0m           \u001b[0;34m[\u001b[0m\u001b[0;36m0.0\u001b[0m\u001b[0;34m,\u001b[0m \u001b[0;36m1.0\u001b[0m\u001b[0;34m]\u001b[0m\u001b[0;34m\u001b[0m\u001b[0;34m\u001b[0m\u001b[0m\n\u001b[1;32m    114\u001b[0m         \"\"\"\n\u001b[0;32m--> 115\u001b[0;31m         \u001b[0;32mreturn\u001b[0m \u001b[0mself\u001b[0m\u001b[0;34m.\u001b[0m\u001b[0mcoords\u001b[0m\u001b[0;34m.\u001b[0m\u001b[0mxy\u001b[0m\u001b[0;34m\u001b[0m\u001b[0;34m\u001b[0m\u001b[0m\n\u001b[0m\u001b[1;32m    116\u001b[0m \u001b[0;34m\u001b[0m\u001b[0m\n\u001b[1;32m    117\u001b[0m     def parallel_offset(\n",
      "\u001b[0;31mAttributeError\u001b[0m: 'list' object has no attribute 'xy'"
     ]
    },
    {
     "data": {
      "image/png": "[encoded data removed]",
      "text/plain": [
       "<Figure size 1600x900 with 1 Axes>"
      ]
     },
     "metadata": {
      "needs_background": "light"
     },
     "output_type": "display_data"
    }
   ],
   "source": [
    "## This function iterates through the crossings, and makes and saves figures to be stitched into a movie.\n",
    "\n",
    "\n",
    "save = True # if true save the figures to disk\n",
    "conts = np.linspace(-3, 0, 50) # Contours of dye\n",
    "rhoc = np.linspace(20, 30, 101)+0.1 # Contours of rho\n",
    "\n",
    "fac = 1.5\n",
    "plt.rcParams['font.size'] = 20/fac\n",
    "\n",
    "norm = np.nanmax(fluorppb)\n",
    "\n",
    "ckeeps = [4, 6, 8, 10, 12, 13, 15, 16, 17, 18, 19, 20, 21, 22] # these are the crossings we keep (not all have good obs of dye)\n",
    "ckeeps = range(0,82)\n",
    "# Iterate through each crossing and make figure\n",
    "for i in range(59,82, 1):\n",
    "    print(i)\n",
    "    fig = plt.figure(figsize=(16/fac,9/fac), dpi=fac*100)\n",
    "    axdye = plt.subplot2grid((3,10), (0,0), rowspan = 2, colspan=10)\n",
    "\n",
    "    span = range(II[ckeeps[i],0], II[ckeeps[i],1])\n",
    "    span_ts = range(ii[ckeeps[i],0], ii[ckeeps[i],1])\n",
    "\n",
    "    # Do all the projection work\n",
    "    Xi, Yi, Ci, Ri, shiplogobs, depthobs = getProjectedSection(ckeeps[i])\n",
    "\n",
    "    Xp = np.zeros(Xi.shape)\n",
    "    Xp[:,1:] = 0.5*(Xi[:,1:] + Xi[:,0:-1]) # We are going to combine pcolor and contour, so need to shift the pcolor coordinates (which plots on vertices)\n",
    "    Xp[:,0] = -6 # XXX- Check this for correctness\n",
    "    \n",
    "    cmap = 'gnuplot'\n",
    "    \n",
    "    # Plot the dye (finally)!\n",
    "    im = axdye.pcolor(Xp, Yi, np.log10(Ci), vmin=conts[0], vmax=conts[-1], cmap=cmap)\n",
    "    im.set_edgecolor('face')\n",
    "    \n",
    "    # Plot the Density\n",
    "    cs = axdye.contour(Xi,Yi, Ri,rhoc, colors='w')\n",
    "    axdye.clabel(cs, cs.levels[::2], inline=1, fontsize=10, fmt='%1.1f')\n",
    "    \n",
    "    # Format the figure\n",
    "    axdye.set_ylim(0, 150)\n",
    "    axdye.set_yticks([0, 50, 100, 150])\n",
    "    axdye.invert_yaxis()\n",
    "    axdye.set_xlabel('km')\n",
    "    axdye.set_ylabel('Pressure [db]')\n",
    "    mt = np.nanmean(jday[:,span])\n",
    "    axdye.set_title(f'Days since dye release: {mt-64.87:3.2f}')\n",
    "    axdye.set_xlim([-5, 5])\n",
    "    \n",
    "    # Plot the SST map\n",
    "    axsst = plt.subplot2grid((3,10), (2,7), colspan=3)\n",
    "    cmap = 'RdYlBu_r'\n",
    "    tliml = 13\n",
    "    tlimh = 23  \n",
    "    aspratio = 1/np.cos(39*np.pi/180) # > 1 indicates x coordinate is smaller than y coordinate\n",
    "\n",
    "    isst = axsst.pcolor(longrid[lonliml-1:lonlimr+1], latgrid[latliml-1:latlimr+1], np.transpose(sst[lonliml-1:lonlimr+1, latliml-1:latlimr+1]), cmap=cmap, vmin = tliml, vmax=tlimh)\n",
    "    isst.set_edgecolor('face')\n",
    "    indrelease = np.argmin(np.abs(fyds - 64.86))\n",
    "    axsst.plot(flons[indrelease:], flats[indrelease:], linewidth=2,  color='k', label='Float')\n",
    "    \n",
    "    axsst.plot(flons[indrelease], flats[indrelease], marker='o', color='y')\n",
    "    \n",
    "    axsst.set_ylim(38.,39.5)\n",
    "    axsst.set_xlim(-65.5, -62.5)\n",
    "    axsst.set_aspect(aspratio)\n",
    "\n",
    "    axsst.set_ylabel('Latitude', labelpad=-0.5)\n",
    "    axsst.set_xlabel('Longitude')\n",
    "\n",
    "           \n",
    "    axsst.plot(lonK, latK, linewidth=2, color = '#1f77b4', label='R/V Knorr')\n",
    "    l1, = axsst.plot(np.nanmean(lon[:,span], axis=0), np.nanmean(lat[:,span], axis=0), color = 'w', linestyle='dashed')\n",
    "    l1.set_dashes([1, 1])\n",
    "    \n",
    "    axsst.legend(loc=4, ncol=2, fontsize=8, handletextpad=0.2, columnspacing=0.8)\n",
    "\n",
    "    axflux = plt.subplot2grid((3,10), (2,0), colspan=7)\n",
    "    \n",
    "    # The original version had heat flux and wind stress magnitude, this is replaced (below) with a quiver plot\n",
    "    #color = 'tab:blue'\n",
    "    #axflux.plot(yearday, tmag, color=color, linewidth=2)\n",
    "    #axflux.tick_params(axis='y', labelcolor=color)\n",
    "    #axflux.set_ylabel('Wind-stress [N m$^{-2}$]', color=color)  # we already handled the x-label with ax1\n",
    "    #axflux.set_ylim((0, 1.2))\n",
    "    #axflux.set_yticks([0, 0.3, 0.6, 0.9,  1.2])\n",
    "    #axflux.set_xlim((64.5, 66))\n",
    "    #axflux.set_xlabel('yearday')\n",
    "    \n",
    "    #axflux2 = axflux.twinx()\n",
    "#    axflux.axvline(time_f[i]/86400+64.5, linestyle='dashed', color='k')\n",
    "#    axflux.axvline(np.nanmean(jday[:,span]), linestyle='dashed', color='k')\n",
    "    #axflux.axvspan(np.nanmean(jday[:,span[0]]), np.nanmean(jday[:,span[-1]]), alpha=0.5)\n",
    "    #color = 'tab:red'\n",
    "    #axflux2.plot(yearday, qnet, color=color, linewidth=2)\n",
    "    #axflux2.set_ylabel('Heat flux [W m$^{-2}$]', color=color)  # we already handled the x-label with ax1\n",
    "    #axflux2.tick_params(axis='y', labelcolor=color)\n",
    "    #axflux2.set_ylim((0, 1200))\n",
    "    #axflux2.set_xlim((64.87, 66))\n",
    "    #axflux2.set_yticks([0, 300, 600, 900,  1200])\n",
    "    #axflux.grid(linestyle='dashed')\n",
    "    \n",
    "    #Quiver version here:\n",
    "    color = 'tab:red'\n",
    "    axflux.plot(yearday, qnet, color=color, linewidth=2)\n",
    "    axflux.set_ylim(-0,1200)\n",
    "    axflux.set_xlim(64.87, 66)\n",
    "    axflux.grid(linestyle='dashed')\n",
    "    axflux.set_ylabel('Heat flux [W m$^{-2}$]', color=color)  # we already handled the x-label with ax1\n",
    "    axflux.tick_params(axis='y', labelcolor=color)\n",
    "    axflux.set_xlabel('yearday')\n",
    "    axflux.set_yticks([0, 600, 1200])\n",
    "    axflux.axvspan(np.nanmean(jday[:,span[0]]), np.nanmean(jday[:,span[-1]]), alpha=0.5)\n",
    "    #axflux.axvline(np.nanmean(jday[:,span]))\n",
    "    axwind = axflux.twinx()\n",
    "    axwind.set_yticklabels([])\n",
    "    # Quiver plot of wind stress\n",
    "    q = axwind.quiver(yearday, 600 + 0*yearday, tau_d, tau_cs, scale=10)\n",
    "\n",
    "    # Add a legend for the quiver plot magnitude\n",
    "    #axwind.quiverkey(q, 64.995, -1000, 0.5, 'Down-\\nstream', coordinates='data', labelpos='S', fontproperties={'size': 10})\n",
    "    #axwind.quiverkey(q, 64.94, -790, 0.5, 'Cross-\\nstream', coordinates='data',labelpos='W', angle=90, labelsep=0.05, fontproperties={'size': 10})\n",
    "    axwind.text(64.948, 850, '0.5\\nN m$^{-2}$', fontsize=10, bbox=dict(boxstyle='square,pad=0', fc='w', ec='none'))\n",
    "    axwind.quiver(64.935, 800, 0.5, 0., scale=10, width=3e-3)\n",
    "    axwind.quiver(64.935, 800, 0., 0.5, scale=10, width=3e-3)\n",
    "    axwind.text(64.88, 820, 'Cross-\\nstream', fontsize=8, rotation=90)\n",
    "    axwind.text(64.91, 700, 'Downstream', fontsize=8, rotation=0, bbox=dict(boxstyle='square,pad=0', fc='w', ec='none'))\n",
    "\n",
    "    axwind.set_ylim(-0, 1200)\n",
    "    \n",
    "    # Do some adjusting to the figure itself\n",
    "    plt.subplots_adjust(wspace=3.5, hspace=0.04)\n",
    "    fig.subplots_adjust(right=0.9)\n",
    "    cbar_ax = fig.add_axes([0.91, 0.45, 0.01, 0.45])\n",
    "    cb = fig.colorbar(im, cax=cbar_ax, extend='min')\n",
    "    cb.set_ticks([-3, -2, -1, 0])\n",
    "    cb.set_label('log$_{10}$[Normalized Concentration]')\n",
    "    \n",
    "    cbaxes = inset_axes(axsst, width=\"40%\", height=\"3%\", loc=9) \n",
    "    cb = plt.colorbar(isst, cax=cbaxes, orientation='horizontal', extend='both')\n",
    "    cb.set_label('SST [$^{\\circ}$ C]', color='w', fontsize=10, labelpad=-1)\n",
    "    cb.outline.set_edgecolor('w')\n",
    "    cb.set_ticks([tliml, (tlimh-tliml)/2+tliml, tlimh])\n",
    "    cb.ax.xaxis.set_tick_params(color='w')\n",
    "    cb.ax.tick_params(labelsize=8)\n",
    "    plt.setp(plt.getp(cb.ax.axes, 'xticklabels'), color='w') # set colorbar  \n",
    "    fig.tight_layout(pad=0.2)\n",
    "    fig.subplots_adjust(right=0.9, wspace=5)\n",
    "    if save:\n",
    "        plt.savefig(f'/data/pacific/jacob/LATMIXDYE/ObsMovieFigs/LatmixDyeObs_{i}.png')\n",
    "        plt.close('all')\n",
    "    \n",
    "## TO MAKE MOVIE RUN THIS SCRIPT IN COMMAND LINE\n",
    "# ffmpeg -start_number 0 -i LatmixDyeObs_%d.png -pix_fmt yuv420p -vf \"setpts=48*PTS\" dye_obs.mov"
   ]
  },
  {
   "cell_type": "markdown",
   "metadata": {},
   "source": [
    "## EXTRAS\n",
    "Below are a variety of additional code snippets used in testing. \n"
   ]
  },
  {
   "cell_type": "code",
   "execution_count": 20,
   "metadata": {},
   "outputs": [
    {
     "data": {
      "text/plain": [
       "1"
      ]
     },
     "execution_count": 20,
     "metadata": {},
     "output_type": "execute_result"
    }
   ],
   "source": [
    "range(0,50)[1]"
   ]
  },
  {
   "cell_type": "code",
   "execution_count": 127,
   "metadata": {},
   "outputs": [
    {
     "data": {
      "text/plain": [
       "1.181446135909563"
      ]
     },
     "execution_count": 127,
     "metadata": {},
     "output_type": "execute_result"
    }
   ],
   "source": [
    "np.max(tmag)"
   ]
  },
  {
   "cell_type": "code",
   "execution_count": 256,
   "metadata": {},
   "outputs": [
    {
     "data": {
      "text/plain": [
       "<matplotlib.legend.Legend at 0x7f0010c85f60>"
      ]
     },
     "execution_count": 256,
     "metadata": {},
     "output_type": "execute_result"
    },
    {
     "data": {
      "image/png": "[encoded data removed]",
      "text/plain": [
       "<Figure size 864x864 with 1 Axes>"
      ]
     },
     "metadata": {
      "needs_background": "light"
     },
     "output_type": "display_data"
    }
   ],
   "source": [
    "testoff= 20\n",
    "x, y = (np.array((-5+testoff,12+testoff)), np.array((-5+testoff,12+testoff)))\n",
    "#x, y = (np.array((-5,12)), np.array((5,-12)))\n",
    "theta = np.pi/12\n",
    "fl = 1e1\n",
    "fx, fy = (fl*np.cos(theta)+testoff, fl*np.sin(theta)+testoff)\n",
    "#fx = fx-np.mean(x); fy = fy-np.mean(y)\n",
    "#x = x-np.mean(x); y = y-np.mean(y)\n",
    "\n",
    "ang = np.arctan2(y, x)\n",
    "plt.figure(figsize=(12,12))\n",
    "plt.plot(x, y, label='SHIP TRACK (orig)')\n",
    "meanx = np.mean(fx); meany= np.mean(fy)\n",
    "#x = x-fx; y = y-fy; fx = 0; fy=0\n",
    "#y = y-meany; x= x- meanx; \n",
    "#plt.plot(x, y, label='SHIP TRACK (adjusted)')\n",
    "plt.plot((fx-fl*np.cos(theta), fx), (fy-fl*np.sin(theta), fy), label='FLOAT DIR')\n",
    "plt.grid()\n",
    "plt.axis('equal')\n",
    "\n",
    "\n",
    "# Rotate coordinate system into along-float direction (x), and across-float direction (y)\n",
    "\n",
    "rotatedpoints = (x*np.cos(theta)+y*np.sin(theta), -x*np.sin(theta)+y*np.cos(theta))\n",
    "\n",
    "ang = np.arctan2(y, x)\n",
    "angdiff = ang-theta\n",
    "\n",
    "offsetlength = np.sqrt(fx**2+fy**2)*np.cos(angdiff)\n",
    "offsetx = offsetlength*np.cos(ang); offsety = offsetlength*np.sin(ang)\n",
    "rotatedoff = (offsetx*np.cos(theta)+offsety*np.sin(theta), -offsetx*np.sin(theta)+offsety*np.cos(theta))\n",
    "\n",
    "\n",
    "fxo, fyo = (np.cos(theta+np.pi/2), np.sin(theta+np.pi/2))\n",
    "\n",
    "#plt.plot( rotatedpoints[0]*np.cos(theta),  rotatedpoints[0]*np.sin(theta), label='SHIP ALONG', linestyle='--')\n",
    "plt.plot(rotatedpointsts[1]*fxo,  rotatedpoints[1]*fyo, label='SHIP ORTHO')\n",
    "plt.plot((rotatedpoints[1]-rotatedoff[1])*fxo,  (rotatedpoints[1]-rotatedoff[1])*fyo, label='SHIP ORTHO OFF', linestyle='--')\n",
    "plt.quiver(fx, fy, np.cos(theta), np.sin(theta))\n",
    "plt.legend()\n"
   ]
  },
  {
   "cell_type": "code",
   "execution_count": 495,
   "metadata": {},
   "outputs": [
    {
     "name": "stdout",
     "output_type": "stream",
     "text": [
      "Maximum float: 3.3301270189221936\n",
      "[ 7.06217783  6.91131446  6.7604511   6.60958773  6.45872437  6.30786101\n",
      "  6.15699764  6.00613428  5.85527091  5.70440755  5.55354418  5.40268082\n",
      "  5.25181746  5.10095409  4.95009073  4.79922736  4.648364    4.49750064\n",
      "  4.34663727  4.19577391  4.04491054  3.89404718  3.74318381  3.59232045\n",
      "  3.44145709  3.29059372  3.13973036  2.98886699  2.83800363  2.68714026\n",
      "  2.5362769   2.38541354  2.23455017  2.08368681  1.93282344  1.78196008\n",
      "  1.63109672  1.48023335  1.32936999  1.17850662  1.02764326  0.87677989\n",
      "  0.72591653  0.57505317  0.4241898   0.27332644  0.12246307 -0.02840029\n",
      " -0.17926365 -0.33012702]\n"
     ]
    },
    {
     "data": {
      "image/png": "[encoded data removed]",
      "text/plain": [
       "<Figure size 864x864 with 1 Axes>"
      ]
     },
     "metadata": {
      "needs_background": "light"
     },
     "output_type": "display_data"
    }
   ],
   "source": [
    "\n",
    "def projection(x,y,theta):\n",
    "    on = np.array([np.cos(theta), np.sin(theta)]) # unit vector of direction\n",
    "    pj = (np.dot(np.array([x,y]).T, on)*on[:,np.newaxis])\n",
    "    return pj\n",
    "\n",
    "def rejection(x,y,theta):\n",
    "    pj = projection(x,y,theta)\n",
    "    return np.array([x,y]) - pj\n",
    "\n",
    "\n",
    "\n",
    "testoff = -0\n",
    "x, y = (np.array((-5+testoff,12+testoff)), np.array((-5+testoff,12+testoff)))\n",
    "x = np.linspace(0,6) + testoff; y = np.linspace(12,0)+testoff\n",
    "#x, y = (np.array((-5,12)), np.array((5,-12)))\n",
    "theta = -np.pi/6\n",
    "#fl = 20\n",
    "#fx, fy = (fl*np.cos(theta)+testoff, fl*np.sin(theta)+testoff)\n",
    "fx = -2+testoff; fy = 5+testoff\n",
    "plt.figure(figsize=(12,12))\n",
    "plt.scatter(x,y, label='(x,y)')\n",
    "plt.scatter(fx, fy, label='(fx,fy)')\n",
    "fang = np.arctan2(y,x)\n",
    "fxv = np.cos(theta); fyv = np.sin(theta)\n",
    "#rj = rejection(np.array([x,y]).T, np.tile(np.array([fxv,fyv]), (50,1)).T)\n",
    "#pj = projectAngle(x, y, theta)\n",
    "#rj = rejectangle(x, y, theta)\n",
    "on = np.array([np.cos(theta), np.sin(theta)])\n",
    "pj = projection(x,y, theta)\n",
    "rj = rejection(x,y,theta)\n",
    "\n",
    "fj = rejection(np.array([fx]),np.array([fy]), theta)\n",
    "\n",
    "#pj = projection(np.array([x,y]), np.array([fxv,fyv]))\n",
    "plt.scatter(rj[0], rj[1], label='Rejection')\n",
    "plt.scatter(fj[0], fj[1], label='Float Rejection')\n",
    "plt.scatter(pj[0], pj[1], label='Projection')\n",
    "#plt.scatter(rj[0] - fj[0], rj[1]-fj[1], label='Projection FLOAT NORM')\n",
    "\n",
    "#rj = rejection(x-fx,y-fy,theta)\n",
    "#plt.scatter(rj[0], rj[1])\n",
    "plt.quiver(0,0, fxv, fyv)\n",
    "#plt.ylim(-12, 20)\n",
    "#plt.xlim(-12, 20)\n",
    "plt.grid()\n",
    "#print(pj)\n",
    "plt.axis('equal')\n",
    "plt.legend()\n",
    "\n",
    "def projecDims(x,y,fx, fy, theta):\n",
    "    on = np.array([np.cos(theta), np.sin(theta)]) #vector of float DIRECTION (diff from position)\n",
    "    pj = projection(x,y, theta)\n",
    "    rj = rejection(x,y,theta)\n",
    "    fj = rejection(np.array([fx]),np.array([fy]), theta)\n",
    "    \n",
    "    \n",
    "    distrej = np.dot(rj.T, np.array([-np.sin(theta), np.cos(theta)]))\n",
    "    distfloat = np.dot(fj.T, np.array([-np.sin(theta), np.cos(theta)]))\n",
    "    return distrej-distfloat\n",
    "plt.scatter(rj[0][ind], rj[1][ind], marker='x')\n",
    "plt.quiver(0,0, -np.sin(theta), np.cos(theta))\n",
    "fjdist = np.sqrt(fj[0]**2 + fj[1]**2)\n",
    "\n",
    "\n",
    "print(f'Maximum float: {np.min(fjdist)}')\n",
    "print(projecDims(x,y,fx,fy, theta))\n",
    "#orthocoord = rjdist - fjdist\n",
    "orthocoord = projecDims(x,y,fx,fy, theta)\n",
    "#print(orthocoord)"
   ]
  },
  {
   "cell_type": "code",
   "execution_count": 474,
   "metadata": {},
   "outputs": [],
   "source": [
    "distrej - distfloat\n",
    "\n"
   ]
  },
  {
   "cell_type": "code",
   "execution_count": 401,
   "metadata": {},
   "outputs": [
    {
     "data": {
      "text/plain": [
       "<matplotlib.legend.Legend at 0x7f0021924fd0>"
      ]
     },
     "execution_count": 401,
     "metadata": {},
     "output_type": "execute_result"
    },
    {
     "data": {
      "image/png": "[encoded data removed]",
      "text/plain": [
       "<Figure size 864x864 with 1 Axes>"
      ]
     },
     "metadata": {
      "needs_background": "light"
     },
     "output_type": "display_data"
    }
   ],
   "source": [
    "x, y = (np.array((-5,12)), np.array((-5,12)))\n",
    "\n",
    "theta = -np.pi/12*0\n",
    "fl = 12\n",
    "fx, fy = (fl*np.cos(theta), fl*np.sin(theta))\n",
    "ang = np.arctan2(y, x)\n",
    "\n",
    "angdiff = ang-theta\n",
    "\n",
    "projection_mag = np.sqrt(x**2 + y**2)*np.cos(angdiff)\n",
    "xr = x - projection_mag*np.cos(theta)\n",
    "yr = y - projection_mag*np.sin(theta)\n",
    "rejection_mag = np.sqrt(xr**2 + yr**2)\n",
    "\n",
    "plt.figure(figsize=(12,12))\n",
    "plt.plot(x, y, label='SHIP TRACK (orig)')\n",
    "plt.plot(x, y, label='SHIP TRACK (adjusted)')\n",
    "plt.plot((0, fx), (0, fy), label='FLOAT DIR')\n",
    "plt.grid()\n",
    "plt.axis('equal')\n",
    "\n",
    "\n",
    "# Rotate coordinate system into along-float direction (x), and across-float direction (y)\n",
    "rotatedpoints = (x*np.cos(theta)+y*np.sin(theta), -x*np.sin(theta)+y*np.cos(theta))\n",
    "#rotatedpoints = (x*np.cos(ang-theta)+y)\n",
    "fxo, fyo = (np.cos(theta+np.pi/2), np.sin(theta+np.pi/2))\n",
    "\n",
    "plt.plot( rotatedpoints[0]*np.cos(theta),  rotatedpoints[0]*np.sin(theta), label='SHIP ALONG', linestyle='--')\n",
    "plt.plot(rotatedpoints[1]*fxo,  rotatedpoints[1]*fyo, label='SHIP ORTHO')\n",
    "\n",
    "plt.legend()\n"
   ]
  },
  {
   "cell_type": "code",
   "execution_count": 157,
   "metadata": {},
   "outputs": [
    {
     "name": "stdout",
     "output_type": "stream",
     "text": [
      "Minimum y: 5.0\n",
      "minimum y projected: [-5.  7.]\n"
     ]
    }
   ],
   "source": [
    "print('Minimum y: ' + str(np.sin(theta)*5))\n",
    "print('minimum y projected: ' + str((rotatedpoints[0])))"
   ]
  },
  {
   "cell_type": "code",
   "execution_count": 196,
   "metadata": {},
   "outputs": [
    {
     "data": {
      "text/plain": [
       "-3.105828541230249"
      ]
     },
     "execution_count": 196,
     "metadata": {},
     "output_type": "execute_result"
    }
   ],
   "source": [
    "np.mean(fy)"
   ]
  },
  {
   "cell_type": "code",
   "execution_count": 113,
   "metadata": {},
   "outputs": [
    {
     "data": {
      "text/plain": [
       "<matplotlib.lines.Line2D at 0x7f003644e390>"
      ]
     },
     "execution_count": 113,
     "metadata": {},
     "output_type": "execute_result"
    },
    {
     "data": {
      "image/png": "[encoded data removed]",
      "text/plain": [
       "<Figure size 432x288 with 1 Axes>"
      ]
     },
     "metadata": {
      "needs_background": "light"
     },
     "output_type": "display_data"
    }
   ],
   "source": [
    "m = Rf>0\n",
    "#plt.plot(fydr[m], fP[m])\n",
    "plt.plot(fydr[m], Rf[m])\n",
    "plt.ylim(25.7, 25.9)\n",
    "plt.xlim(65.5, 65.6)\n",
    "plt.axvline(65.53)\n",
    "plt.axvline(65.58)"
   ]
  },
  {
   "cell_type": "code",
   "execution_count": 115,
   "metadata": {},
   "outputs": [
    {
     "data": {
      "text/plain": [
       "(65.5, 65.6)"
      ]
     },
     "execution_count": 115,
     "metadata": {},
     "output_type": "execute_result"
    },
    {
     "data": {
      "image/png": "[encoded data removed]",
      "text/plain": [
       "<Figure size 432x288 with 1 Axes>"
      ]
     },
     "metadata": {
      "needs_background": "light"
     },
     "output_type": "display_data"
    }
   ],
   "source": [
    "plt.plot(fydr, fP)\n",
    "plt.xlim(65.5, 65.6)"
   ]
  },
  {
   "cell_type": "code",
   "execution_count": 227,
   "metadata": {},
   "outputs": [],
   "source": [
    "### OLD VERSION OF PROJECTION ###\n",
    "\n",
    "\n",
    "# Projection routine for taking a lat, lon coordinate, and projecting it into the coordinate normal to the float direction\n",
    "# By default this uses epsg:26920 (zone 20 UTM), but can also send other projections\n",
    "# Naive projection is just to directly convert to meters (projection='naive')\n",
    "\n",
    "import pyproj as proj\n",
    "\n",
    "def projectCoords(lat, lon, flat, flon, projection='epsg:26920'):\n",
    "    print(f\"Projection type: {projection}\")\n",
    "    if projection == 'naive': # Directly convert to meters\n",
    "        y = (lat)*111e3 \n",
    "        x = (lon*np.cos(lat*np.pi/180))*111e3\n",
    "        fy = flat*111e3\n",
    "        fx = flon*111e3*np.cos(flat*np.pi/180)\n",
    "    elif projection=='local':\n",
    "        crs_wgs = proj.Proj(init='epsg:4326')  # assuming you're using WGS84 geographic\n",
    "        #Erect own local flat cartesian coordinate system around mean lat/lon\n",
    "        cust = proj.Proj(\"+proj=aeqd +lat_0={0} +lon_0={1} +datum=WGS84 +units=m\".format(np.nanmean(lat), np.nanmean(lon)))\n",
    "        x, y = proj.transform(crs_wgs, cust, lon, lat)\n",
    "        fx, fy = proj.transform(crs_wgs, cust, flon, flat)\n",
    "    else: # Use a UTM projection\n",
    "        transformer = proj.Transformer.from_crs('epsg:4326', projection, always_xy=True)\n",
    "        x, y = transformer.transform(lon, lat)\n",
    "        fx, fy = transformer.transform(flon, flat)\n",
    "\n",
    "    fxv = np.gradient(fx)/np.gradient(fyds*86400) # Calculate float velocity\n",
    "    fyv = np.gradient(fy)/np.gradient(fyds*86400)\n",
    "    fxvm = (np.interp(np.nanmean(jday[:,span]), fyds, fxv)) # Interpolate float velocity to the mean section time\n",
    "    fyvm = (np.interp(np.nanmean(jday[:,span]), fyds, fyv))\n",
    "    fang = np.arctan2(fyvm, fxvm) # Get the angle of the mean float velocity\n",
    "    theta = fang\n",
    "    print(fang)\n",
    "    #print(theta)\n",
    "    meanfloaty = np.interp(np.nanmean(jday[:,span]), fyds, fy) # What is the float lat during the survey average?\n",
    "    meanfloatx = np.interp(np.nanmean(jday[:,span]), fyds, fx) # What is the float lon during the survey average?\n",
    "    #Reference x-y to the float location (ie. float is at 0,0)\n",
    "    #x = x - meanfloatx; y = y - meanfloaty\n",
    "    \n",
    "    # Rotate coordinate system into along-float direction (x), and across-float direction (y)\n",
    "    rotatedpoints = (x*np.cos(theta)+y*np.sin(theta), -x*np.sin(theta)+y*np.cos(theta))\n",
    "    \n",
    "    ang = np.arctan2(y, x)\n",
    "    angdiff = ang-theta\n",
    "    offsetlength = np.sqrt(meanfloatx**2+meanfloaty**2)*np.cos(angdiff)\n",
    "    offsetx = offsetlength*np.cos(ang); offsety = offsetlength*np.sin(ang)\n",
    "    rotatedoff = (offsetx*np.cos(theta)+offsety*np.sin(theta), -offsetx*np.sin(theta)+offsety*np.cos(theta))\n",
    "    \n",
    "    rx = rotatedpoints[0] - rotatedoff[0]; ry = rotatedpoints[1]-rotatedoff[1]\n",
    "    return rx/1000, ry/1000"
   ]
  },
  {
   "cell_type": "code",
   "execution_count": 43,
   "metadata": {},
   "outputs": [
    {
     "name": "stdout",
     "output_type": "stream",
     "text": [
      "Mean Tau: 0.4411312325909237\n",
      "Iso turbulence scaling: 1.3371418511233464\n",
      "Mean us = 0.017828558014977954\n"
     ]
    }
   ],
   "source": [
    "tmag.shape\n",
    "yearday.shape\n",
    "\n",
    "mask = (yearday>64.87)&(yearday<65.5)\n",
    "print(f'Mean Tau: {np.mean(tmag[mask])}')\n",
    "print(f'Iso turbulence scaling: {np.mean(np.sqrt(tmag[mask]/1035)*75)}')\n",
    "print(f'Mean us = {np.mean(np.sqrt(tmag[mask]/1035))}')"
   ]
  },
  {
   "cell_type": "code",
   "execution_count": 38,
   "metadata": {},
   "outputs": [
    {
     "data": {
      "text/plain": [
       "8.954433185098802e-05"
      ]
     },
     "execution_count": 38,
     "metadata": {},
     "output_type": "execute_result"
    }
   ],
   "source": [
    "2*2*np.pi/86400*np.sin(38*np.pi/180)"
   ]
  },
  {
   "cell_type": "code",
   "execution_count": null,
   "metadata": {},
   "outputs": [],
   "source": []
  }
 ],
 "metadata": {
  "kernelspec": {
   "display_name": "Python [conda env:latmix]",
   "language": "python",
   "name": "conda-env-latmix-py"
  },
  "language_info": {
   "codemirror_mode": {
    "name": "ipython",
    "version": 3
   },
   "file_extension": ".py",
   "mimetype": "text/x-python",
   "name": "python",
   "nbconvert_exporter": "python",
   "pygments_lexer": "ipython3",
   "version": "3.6.10"
  }
 },
 "nbformat": 4,
 "nbformat_minor": 4
}
