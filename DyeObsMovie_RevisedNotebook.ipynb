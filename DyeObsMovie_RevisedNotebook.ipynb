{
 "cells": [
  {
   "cell_type": "markdown",
   "metadata": {},
   "source": [
    "# Make Obs Movie Plots\n",
    "## updating prior version DyeObsMovie.py into notebook format\n",
    "And revising with better projection method."
   ]
  },
  {
   "cell_type": "code",
   "execution_count": 2,
   "metadata": {},
   "outputs": [],
   "source": [
    "#!/usr/bin/env python3\n",
    "# -*- coding: utf-8 -*-\n",
    "\"\"\"\n",
    "Created on Thu Jul 11 15:24:57 2019\n",
    "\n",
    "@author: jacob\n",
    "\"\"\"\n",
    "\n",
    "import h5py\n",
    "import scipy.io as spio\n",
    "import matplotlib.pyplot as plt\n",
    "import numpy as np\n",
    "from cmocean import cm as cmo\n",
    "from scipy.interpolate import griddata\n",
    "import scipy.integrate as integrate\n",
    "from scipy.optimize import curve_fit\n",
    "from scipy.signal import savgol_filter\n",
    "from mpl_toolkits.axes_grid1.inset_locator import inset_axes\n",
    "import numpy.ma as ma\n",
    "\n",
    "#from matplotlib.mlab import griddata\n",
    "import datetime as dt\n",
    "import gsw\n",
    "import scipy.interpolate as interp\n",
    "from matplotlib.gridspec import GridSpec\n",
    "#%%\n",
    "plt.rcParams['text.usetex'] = True\n",
    "plt.rcParams['mathtext.fontset'] = 'stix'\n",
    "plt.rcParams['font.family'] = 'STIXGeneral'\n",
    "plt.rcParams['font.size'] = 14\n",
    "plt.rcParams['contour.negative_linestyle'] = 'solid'"
   ]
  },
  {
   "cell_type": "code",
   "execution_count": 5,
   "metadata": {},
   "outputs": [],
   "source": [
    "#%% LOAD MET DATA\n",
    "\n",
    "filename = '/data/pacific/jacob/LATMIXDYE/LATMIX/LES_COARE35_forcing.mat' # Front run\n",
    "matfile = spio.loadmat(filename,struct_as_record=False, squeeze_me=True)\n",
    "\n",
    "# List all groups\n",
    "yearday = matfile['yearday']\n",
    "tau_cs = matfile['tau_cs']\n",
    "tau_d = matfile['tau_d']\n",
    "qnet = matfile['net_heat_flux']\n",
    "tmag = np.sqrt(tau_cs**2 + tau_d**2)\n",
    "\n",
    "#%% LOAD SST MAP\n",
    "\n",
    "filename = '/data/pacific/jacob/LATMIXDYE/SatData/AVHRR493data.mat'\n",
    "matfile = spio.loadmat(filename,struct_as_record=False, squeeze_me=True)\n",
    "\n",
    "sstdatafile=matfile['sstdata']\n",
    "\n",
    "temp0 = sstdatafile[0]\n",
    "temp1 = sstdatafile[1]\n",
    "temp2 = sstdatafile[2]\n",
    "\n",
    "sstdata = temp0.sst\n",
    "sst=(sstdata.bytes-0.5)*sstdata.scale; \n",
    "sst[sst<0] = np.nan; \n",
    "sst=sst+sstdata.min\n",
    "\n",
    "latgrid = temp0.subset.latgrid\n",
    "longrid = temp0.subset.lonEgrid\n",
    "\n",
    "latlimr = np.argmin(np.abs(latgrid-38))\n",
    "latliml = np.argmin(np.abs(latgrid-40))\n",
    "lonliml = np.argmin(np.abs(longrid+66))\n",
    "lonlimr = np.argmin(np.abs(longrid+62))\n",
    "\n",
    "#%% LOAD DYE DATA\n",
    "#filename = '/home/jacob/dedalus/LATMIX/LatMix_2012/inj_data_2012'\n",
    "#matfile = spio.loadmat(filename,struct_as_record=False, squeeze_me=True)\n",
    "#matfile = spio.loadmat(filename,struct_as_record=True, squeeze_me=True)\n",
    "\n",
    "filename = '/data/pacific/jacob/LATMIXDYE/LatMix_2012_Transfer/my_triaxus_SI2'\n",
    "matfile = spio.loadmat(filename,struct_as_record=True, squeeze_me=True)\n",
    "\n",
    "latK = matfile['lat_ts']\n",
    "lonK = matfile['lon_ts']\n",
    "\n",
    "depth = matfile['DEPTH']\n",
    "fluorppb = matfile['FLUORPPB']\n",
    "shiplog = matfile['SHIPLOG']\n",
    "rho = matfile['PDENS']\n",
    "jday = matfile['JDAY']\n",
    "lat = matfile['LAT']\n",
    "lon = matfile['LON']\n",
    "II = matfile['II'] # This indexes individual gulf stream crossings\n",
    "\n",
    "fluorppb[np.isnan(fluorppb)] = 0\n",
    "fluorppb[fluorppb<0] = 0\n",
    "fluorppb[fluorppb==0] = 1e-10\n",
    "nd, ns = shiplog.shape\n",
    "\n",
    "#%% LOAD TIMESERIES DATA\n",
    "\n",
    "jday_ts = matfile['jday_ts']\n",
    "fluorppb_ts = matfile['fluorPPB_ts']\n",
    "depth_ts = matfile['depth_ts']\n",
    "lat_ts = matfile['lat_ts']\n",
    "lon_ts = matfile['lon_ts']\n",
    "rho_ts = matfile['pdens_ts']\n",
    "T_ts = matfile['T_ts']\n",
    "S_ts = matfile['S_ts']\n",
    "ii = matfile['ii']\n",
    "    #%% LOAD FLOAT DATA\n",
    "filename = '/data/pacific/jacob/LATMIXDYE/FloatData_Transfer/Mar05_SI_2_Track.mat'\n",
    "matfile = spio.loadmat(filename,struct_as_record=False, squeeze_me=True)\n",
    "floatstruct = matfile['F']\n",
    "flat = floatstruct.lat\n",
    "flon = floatstruct.lon\n",
    "fyd = floatstruct.yd-1 #Craig convention\n",
    "\n",
    "fyds = floatstruct.yds - 1\n",
    "flats = floatstruct.lats\n",
    "flons = floatstruct.lons\n",
    "\n",
    "#sf = 10\n",
    "#poly = np.polyfit(fyd,flat,6)\n",
    "#flat_s = np.poly1d(poly)(fyd)\n",
    "#\n",
    "#window_size, poly_order = 51, 3\n",
    "#flat_s = savgol_filter(flat, window_size, poly_order, deriv=0)\n",
    "#flon_s = savgol_filter(flon, window_size, poly_order, deriv=0)\n",
    "fvellat = np.gradient(flats)/np.gradient(fyds*86400)\n",
    "fvellon = np.gradient(flons)/ np.gradient(fyds*86400)\n",
    "fdir = np.arctan2(fvellat, fvellon)\n",
    "\n",
    "filename = '/data/pacific/jacob/LATMIXDYE/FloatData_Transfer/Env.mat'\n",
    "matfile = spio.loadmat(filename,struct_as_record=False, squeeze_me=True)\n",
    "fT = matfile['T']\n",
    "fS = matfile['S']\n",
    "fT = np.mean(fT, axis=-1)# Top and bottom sensors\n",
    "fS = np.mean(fS, axis=-1)\n",
    "fydr = matfile['yd'] - 1\n",
    "fP = matfile['P']"
   ]
  },
  {
   "cell_type": "code",
   "execution_count": 348,
   "metadata": {},
   "outputs": [],
   "source": [
    "import pyproj as proj\n",
    "\n",
    "def projectCoords(lat, lon, flat, flon, projection='epsg:26920'):\n",
    "    if projection == 'naive':\n",
    "        y = (lat)*111e3 \n",
    "        x = (lon*np.cos(lat*np.pi/180))*111e3\n",
    "        #x -=x[0]; y -= y[0]\n",
    "        fy = flat*111e3\n",
    "        fx = flon*111e3*np.cos(flat*np.pi/180)\n",
    "    else:\n",
    "        transformer = proj.Transformer.from_crs('epsg:4326', projection, always_xy=True)\n",
    "        x, y = transformer.transform(lon, lat)\n",
    "        #x -= x[0]; y -= y[0]\n",
    "        fx, fy = transformer.transform(flon, flat)\n",
    "\n",
    "    fxv = np.gradient(fx)/np.gradient(fyds*86400)\n",
    "    fyv = np.gradient(fy)/np.gradient(fyds*86400)\n",
    "    fxvm = (np.interp(np.nanmean(jday[:,span]), fyds, fxv))\n",
    "    fyvm = (np.interp(np.nanmean(jday[:,span]), fyds, fyv))\n",
    "    fang = np.arctan2(fyvm, fxvm)\n",
    "    theta = -fang\n",
    "    #print(theta)\n",
    "    meanfloaty = np.interp(np.nanmean(jday[:,span]), fyds, fy) # What is the float lat during the survey average?\n",
    "    meanfloatx = np.interp(np.nanmean(jday[:,span]), fyds, fx) # What is the float lon during the survey average?\n",
    "    #print(meanfloatx)\n",
    "    x = x - meanfloatx; y = y - meanfloaty\n",
    "    print(np.sum(np.isfinite(x)))\n",
    "    rotatedpoints = (x*np.cos(theta)-y*np.sin(theta), x*np.sin(theta)+y*np.cos(theta))\n",
    "\n",
    "    return rotatedpoints[0]/1000, rotatedpoints[1]/1000"
   ]
  },
  {
   "cell_type": "code",
   "execution_count": 349,
   "metadata": {},
   "outputs": [],
   "source": [
    "#Define Projection Function\n",
    "def getProjectedSection(crossing):\n",
    "    span = range(II[crossing,0], II[crossing,1])\n",
    "    span_ts = range(ii[crossing,0], ii[crossing,1])\n",
    "\n",
    "    values = fluorppb[:,span]\n",
    "    values[values<=0] = 1e-10\n",
    "    values = values/np.nanmax(fluorppb)\n",
    "    # Project to float normal coordinate system\n",
    "\n",
    "    # First calc the survey mean float angle\n",
    "#    tmean = np.nanmean(jday[:,span])\n",
    "#    fvellatm = np.mean(np.interp(tmean, fyds, fvellat)) # mean float latitude velocity during survey\n",
    "#    fvellonm = np.mean(np.interp(tmean, fyds, fvellon)) # mean float longitude velocity during survey\n",
    "#    fang = np.arctan2(fvellatm, fvellonm) # angle of float velocity (cart) XXX - are these accurate calcs?\n",
    "    # Then calculate survey angle relative to float \n",
    "#    theta = -fang # 0 if pure zonal\n",
    "    #theta = 0\n",
    "#    y = lat[:,span]*111e3 \n",
    "#    x = lon[:,span]*111e3*np.cos(lat[:,span]*np.pi/180)\n",
    "    \n",
    "    # Now calculate closest point of appraoch\n",
    "#    meanfloaty = np.interp(np.nanmean(jday[:,span]), fyds, flats)*111e3 # What is the float lat during the survey average?\n",
    "#    meanfloatx = np.interp(np.nanmean(jday[:,span]), fyds, flons*np.cos(flats*np.pi/180))*111e3 # What is the float lon during the survey average?\n",
    "    #floatindx = np.nanargmin((x.ravel() - meanfloatx)**2 )\n",
    "    #x = x - x.ravel()[floatindx]\n",
    "    #floatindy = np.nanargmin((y.ravel() - meanfloaty)**2)\n",
    "    #y = y - y.ravel()[floatindy]\n",
    "    #print(floatind)\n",
    "#    x = x - meanfloatx\n",
    "#    y = y - meanfloaty\n",
    "    \n",
    "    #x = x-np.nanmin(x); y = y - np.nanmin(y)\n",
    "#    rotatedpoints = (x*np.cos(theta)-y*np.sin(theta), x*np.sin(theta)+y*np.cos(theta))\n",
    "#    shiplogc = rotatedpoints[1]/1000 \n",
    "    rx, shiplogc = projectCoords(lat[:,span], lon[:,span], floatstruct.lats, floatstruct.lons)\n",
    "    print(shiplogc.shape)\n",
    "    #shiplogc = shiplogc - shiplogc[floatind]\n",
    "    # Interpolate the data\n",
    "    grid_x = np.linspace(-6, 6, 12*4)\n",
    "    grid_y = depth[:,1]\n",
    "    GX, GY = np.meshgrid(grid_x, grid_y)\n",
    "\n",
    "    # ALTERNATELY INTERPOLATE 1D AT EACH DEPTH BIN\n",
    "    deps = depth_ts[span]\n",
    "    grc = np.zeros((grid_y.size, grid_x.size))\n",
    "    R = np.zeros((grid_y.size, grid_x.size))\n",
    "    sl = shiplogc\n",
    "    #print(sl[100,:])\n",
    "    for i in range(0, grid_y.size):\n",
    "        vtemp = values[i,:]\n",
    "        rtemp = rho[i,span]\n",
    "        stemp = sl[i,:]\n",
    "        m = (np.isfinite(vtemp)) #& ~(np.insert(np.diff(stemp), 0, 0) <0)\n",
    "        stemp = stemp[m]\n",
    "        vtemp = vtemp[m]\n",
    "        rtemp = rtemp[m]\n",
    "        grc[i, :] = interp.interp1d(stemp, vtemp, kind='nearest',bounds_error=False, assume_sorted=False)(grid_x)\n",
    "        R[i, :] = interp.interp1d(stemp, rtemp, kind='linear',bounds_error=False)(grid_x)\n",
    "\n",
    "    points = (shiplogc.ravel(), depth[:,span].ravel() )\n",
    "    rhov = rho[:,span].ravel()\n",
    "    mask = np.isfinite(shiplogc.ravel() + depth[:,span].ravel()+rho[:,span].ravel())\n",
    "    #R = griddata((shiplogc.ravel()[mask], depth[:,span].ravel()[mask]), rhov[mask], (GX, GY), method='linear', rescale=True)\n",
    "\n",
    "    # Create mask of upper most depths (we don't want to extrapolate above tow-yo depths)\n",
    "    depthnorm = depth[:,span]\n",
    "    sli = np.zeros((len(span),))\n",
    "    depthi = np.zeros((len(span)))\n",
    "    for i in range(0,len(span)):\n",
    "        depthi[i] = depth[np.where(np.isfinite(shiplog[:,span[i]]))[0][0],span[i]]\n",
    "        sli[i] = shiplogc[np.where(np.isfinite(shiplog[:,span[i]]))[0][0],i]\n",
    "    mindsi = interp.interp1d(sli, depthi, kind='linear', bounds_error=False, fill_value='extrapolate')(grid_x)\n",
    "    mindgrid = np.tile(mindsi, (grid_y.size, 1))\n",
    "    grc[GY<mindgrid] = np.nan\n",
    "    R[GY<mindgrid] = np.nan\n",
    "    # Mask the bottom of the domain\n",
    "    sli = np.zeros((len(span),))\n",
    "    depthi = np.zeros((len(span)))\n",
    "    for i in range(0,len(span)):\n",
    "        depthi[i] = depth[np.where(np.isfinite(shiplog[:,span[i]]))[0][-1],span[i]]\n",
    "        sli[i] = shiplogc[np.where(np.isfinite(shiplog[:,span[i]]))[0][-1],i]\n",
    "    mindsi = interp.interp1d(sli, depthi, kind='linear', bounds_error=False, fill_value='extrapolate')(grid_x)\n",
    "    mindgrid = np.tile(mindsi, (grid_y.size, 1))\n",
    "    grc[GY>mindgrid] = np.nan\n",
    "\n",
    "    #Mask values outside the survey distance (y) direction\n",
    "    grc[GX>np.nanmax(shiplogc)] = np.nan\n",
    "    maxx = np.zeros((len(GX),))\n",
    "    minx = np.zeros((len(GX),))\n",
    "    for i in range(0,len(GX)):\n",
    "        stemp = np.sort(shiplogc[i,:])\n",
    "        #print(stemp)\n",
    "        inds = np.where(np.isfinite(stemp))[0]\n",
    "        if inds.size>0:\n",
    "            maxx[i] = stemp[inds[-1]]\n",
    "            minx[i] = stemp[inds[0]]\n",
    "    maxxi = np.tile(maxx, (grid_x.shape[-1], 1)).T\n",
    "    minxi = np.tile(minx, (grid_x.shape[-1], 1)).T\n",
    "    grc[GX>maxxi] = np.nan\n",
    "    grc[GX<minxi] = np.nan\n",
    "    R[GX>maxxi] = np.nan\n",
    "    R[GX<minxi] = np.nan\n",
    "    \n",
    "    #m = GX[0:300,:] >= np.nanmax(shiplogc[0:200,:])\n",
    "    #gctemp = grc[0:300,:]\n",
    "    #gctemp[m] = np.nan\n",
    "    #grc[0:300,:] = gctemp\n",
    "#for i in range(0,depth.shape[0]):\n",
    "#    maxx = np.nanmax(shiplogc[i,:])\n",
    "#    m = GX[i,:]>maxx\n",
    "#    grc[i,m] = np.nan\n",
    "#R[GX>np.max(points[0])] = np.nan\n",
    "    shiplogobs = shiplogc.ravel()\n",
    "    depthobs = depth[:,span].ravel()\n",
    "    m = np.isfinite(shiplogobs+depthobs)\n",
    "    shiplogobs = shiplogobs[m]\n",
    "    depthobs = depthobs[m]\n",
    "    return GX, GY, grc, R, shiplogobs, depthobs\n",
    "#GX, GY, grc, R, shiplogobs, depthobs = getProjectedSection(4)"
   ]
  },
  {
   "cell_type": "code",
   "execution_count": 350,
   "metadata": {},
   "outputs": [
    {
     "name": "stdout",
     "output_type": "stream",
     "text": [
      "46308\n"
     ]
    },
    {
     "name": "stderr",
     "output_type": "stream",
     "text": [
      "/homes/metofac/wenegrat/miniconda3/envs/latmix/lib/python3.6/site-packages/ipykernel_launcher.py:28: RuntimeWarning: invalid value encountered in add\n"
     ]
    },
    {
     "data": {
      "text/plain": [
       "46308"
      ]
     },
     "execution_count": 350,
     "metadata": {},
     "output_type": "execute_result"
    }
   ],
   "source": [
    "    rx, shiplogc = projectCoords(lat[:,span], lon[:,span], floatstruct.lats, floatstruct.lons)\n",
    "np.sum(np.isfinite(shiplogc))"
   ]
  },
  {
   "cell_type": "code",
   "execution_count": 352,
   "metadata": {
    "scrolled": false
   },
   "outputs": [
    {
     "name": "stdout",
     "output_type": "stream",
     "text": [
      "0\n",
      "33729\n",
      "(1913, 19)\n"
     ]
    },
    {
     "name": "stderr",
     "output_type": "stream",
     "text": [
      "/homes/metofac/wenegrat/miniconda3/envs/latmix/lib/python3.6/site-packages/ipykernel_launcher.py:28: RuntimeWarning: invalid value encountered in add\n",
      "/homes/metofac/wenegrat/miniconda3/envs/latmix/lib/python3.6/site-packages/scipy/interpolate/interpolate.py:687: RuntimeWarning: invalid value encountered in less\n",
      "  below_bounds = x_new < self.x[0]\n",
      "/homes/metofac/wenegrat/miniconda3/envs/latmix/lib/python3.6/site-packages/scipy/interpolate/interpolate.py:688: RuntimeWarning: invalid value encountered in greater\n",
      "  above_bounds = x_new > self.x[-1]\n",
      "/homes/metofac/wenegrat/miniconda3/envs/latmix/lib/python3.6/site-packages/scipy/interpolate/interpolate.py:609: RuntimeWarning: invalid value encountered in true_divide\n",
      "  slope = (y_hi - y_lo) / (x_hi - x_lo)[:, None]\n",
      "/homes/metofac/wenegrat/miniconda3/envs/latmix/lib/python3.6/site-packages/ipykernel_launcher.py:75: RuntimeWarning: invalid value encountered in less\n",
      "/homes/metofac/wenegrat/miniconda3/envs/latmix/lib/python3.6/site-packages/ipykernel_launcher.py:76: RuntimeWarning: invalid value encountered in less\n",
      "/homes/metofac/wenegrat/miniconda3/envs/latmix/lib/python3.6/site-packages/ipykernel_launcher.py:85: RuntimeWarning: invalid value encountered in greater\n",
      "/homes/metofac/wenegrat/miniconda3/envs/latmix/lib/python3.6/site-packages/ipykernel_launcher.py:161: UserWarning: This figure includes Axes that are not compatible with tight_layout, so results might be incorrect.\n"
     ]
    },
    {
     "name": "stdout",
     "output_type": "stream",
     "text": [
      "1\n",
      "33569\n",
      "(1913, 19)\n"
     ]
    },
    {
     "name": "stderr",
     "output_type": "stream",
     "text": [
      "/homes/metofac/wenegrat/miniconda3/envs/latmix/lib/python3.6/site-packages/ipykernel_launcher.py:28: RuntimeWarning: invalid value encountered in add\n",
      "/homes/metofac/wenegrat/miniconda3/envs/latmix/lib/python3.6/site-packages/scipy/interpolate/interpolate.py:687: RuntimeWarning: invalid value encountered in less\n",
      "  below_bounds = x_new < self.x[0]\n",
      "/homes/metofac/wenegrat/miniconda3/envs/latmix/lib/python3.6/site-packages/scipy/interpolate/interpolate.py:688: RuntimeWarning: invalid value encountered in greater\n",
      "  above_bounds = x_new > self.x[-1]\n",
      "/homes/metofac/wenegrat/miniconda3/envs/latmix/lib/python3.6/site-packages/scipy/interpolate/interpolate.py:609: RuntimeWarning: invalid value encountered in true_divide\n",
      "  slope = (y_hi - y_lo) / (x_hi - x_lo)[:, None]\n",
      "/homes/metofac/wenegrat/miniconda3/envs/latmix/lib/python3.6/site-packages/ipykernel_launcher.py:75: RuntimeWarning: invalid value encountered in less\n",
      "/homes/metofac/wenegrat/miniconda3/envs/latmix/lib/python3.6/site-packages/ipykernel_launcher.py:76: RuntimeWarning: invalid value encountered in less\n",
      "/homes/metofac/wenegrat/miniconda3/envs/latmix/lib/python3.6/site-packages/ipykernel_launcher.py:161: UserWarning: This figure includes Axes that are not compatible with tight_layout, so results might be incorrect.\n"
     ]
    },
    {
     "name": "stdout",
     "output_type": "stream",
     "text": [
      "2\n",
      "26351\n",
      "(1913, 15)\n"
     ]
    },
    {
     "name": "stderr",
     "output_type": "stream",
     "text": [
      "/homes/metofac/wenegrat/miniconda3/envs/latmix/lib/python3.6/site-packages/ipykernel_launcher.py:28: RuntimeWarning: invalid value encountered in add\n",
      "/homes/metofac/wenegrat/miniconda3/envs/latmix/lib/python3.6/site-packages/scipy/interpolate/interpolate.py:687: RuntimeWarning: invalid value encountered in less\n",
      "  below_bounds = x_new < self.x[0]\n",
      "/homes/metofac/wenegrat/miniconda3/envs/latmix/lib/python3.6/site-packages/scipy/interpolate/interpolate.py:688: RuntimeWarning: invalid value encountered in greater\n",
      "  above_bounds = x_new > self.x[-1]\n",
      "/homes/metofac/wenegrat/miniconda3/envs/latmix/lib/python3.6/site-packages/scipy/interpolate/interpolate.py:609: RuntimeWarning: invalid value encountered in true_divide\n",
      "  slope = (y_hi - y_lo) / (x_hi - x_lo)[:, None]\n",
      "/homes/metofac/wenegrat/miniconda3/envs/latmix/lib/python3.6/site-packages/ipykernel_launcher.py:85: RuntimeWarning: invalid value encountered in greater\n",
      "/homes/metofac/wenegrat/miniconda3/envs/latmix/lib/python3.6/site-packages/ipykernel_launcher.py:161: UserWarning: This figure includes Axes that are not compatible with tight_layout, so results might be incorrect.\n"
     ]
    },
    {
     "name": "stdout",
     "output_type": "stream",
     "text": [
      "3\n",
      "30841\n",
      "(1913, 17)\n"
     ]
    },
    {
     "name": "stderr",
     "output_type": "stream",
     "text": [
      "/homes/metofac/wenegrat/miniconda3/envs/latmix/lib/python3.6/site-packages/ipykernel_launcher.py:28: RuntimeWarning: invalid value encountered in add\n",
      "/homes/metofac/wenegrat/miniconda3/envs/latmix/lib/python3.6/site-packages/scipy/interpolate/interpolate.py:687: RuntimeWarning: invalid value encountered in less\n",
      "  below_bounds = x_new < self.x[0]\n",
      "/homes/metofac/wenegrat/miniconda3/envs/latmix/lib/python3.6/site-packages/scipy/interpolate/interpolate.py:688: RuntimeWarning: invalid value encountered in greater\n",
      "  above_bounds = x_new > self.x[-1]\n",
      "/homes/metofac/wenegrat/miniconda3/envs/latmix/lib/python3.6/site-packages/scipy/interpolate/interpolate.py:609: RuntimeWarning: invalid value encountered in true_divide\n",
      "  slope = (y_hi - y_lo) / (x_hi - x_lo)[:, None]\n",
      "/homes/metofac/wenegrat/miniconda3/envs/latmix/lib/python3.6/site-packages/ipykernel_launcher.py:75: RuntimeWarning: invalid value encountered in less\n",
      "/homes/metofac/wenegrat/miniconda3/envs/latmix/lib/python3.6/site-packages/ipykernel_launcher.py:76: RuntimeWarning: invalid value encountered in less\n",
      "/homes/metofac/wenegrat/miniconda3/envs/latmix/lib/python3.6/site-packages/ipykernel_launcher.py:161: UserWarning: This figure includes Axes that are not compatible with tight_layout, so results might be incorrect.\n"
     ]
    },
    {
     "name": "stdout",
     "output_type": "stream",
     "text": [
      "4\n",
      "34107\n",
      "(1913, 19)\n"
     ]
    },
    {
     "name": "stderr",
     "output_type": "stream",
     "text": [
      "/homes/metofac/wenegrat/miniconda3/envs/latmix/lib/python3.6/site-packages/ipykernel_launcher.py:28: RuntimeWarning: invalid value encountered in add\n",
      "/homes/metofac/wenegrat/miniconda3/envs/latmix/lib/python3.6/site-packages/scipy/interpolate/interpolate.py:687: RuntimeWarning: invalid value encountered in less\n",
      "  below_bounds = x_new < self.x[0]\n",
      "/homes/metofac/wenegrat/miniconda3/envs/latmix/lib/python3.6/site-packages/scipy/interpolate/interpolate.py:688: RuntimeWarning: invalid value encountered in greater\n",
      "  above_bounds = x_new > self.x[-1]\n",
      "/homes/metofac/wenegrat/miniconda3/envs/latmix/lib/python3.6/site-packages/scipy/interpolate/interpolate.py:609: RuntimeWarning: invalid value encountered in true_divide\n",
      "  slope = (y_hi - y_lo) / (x_hi - x_lo)[:, None]\n",
      "/homes/metofac/wenegrat/miniconda3/envs/latmix/lib/python3.6/site-packages/ipykernel_launcher.py:75: RuntimeWarning: invalid value encountered in less\n",
      "/homes/metofac/wenegrat/miniconda3/envs/latmix/lib/python3.6/site-packages/ipykernel_launcher.py:76: RuntimeWarning: invalid value encountered in less\n",
      "/homes/metofac/wenegrat/miniconda3/envs/latmix/lib/python3.6/site-packages/ipykernel_launcher.py:85: RuntimeWarning: invalid value encountered in greater\n",
      "/homes/metofac/wenegrat/miniconda3/envs/latmix/lib/python3.6/site-packages/ipykernel_launcher.py:161: UserWarning: This figure includes Axes that are not compatible with tight_layout, so results might be incorrect.\n"
     ]
    },
    {
     "name": "stdout",
     "output_type": "stream",
     "text": [
      "5\n",
      "38150\n",
      "(1913, 21)\n"
     ]
    },
    {
     "name": "stderr",
     "output_type": "stream",
     "text": [
      "/homes/metofac/wenegrat/miniconda3/envs/latmix/lib/python3.6/site-packages/ipykernel_launcher.py:28: RuntimeWarning: invalid value encountered in add\n",
      "/homes/metofac/wenegrat/miniconda3/envs/latmix/lib/python3.6/site-packages/scipy/interpolate/interpolate.py:687: RuntimeWarning: invalid value encountered in less\n",
      "  below_bounds = x_new < self.x[0]\n",
      "/homes/metofac/wenegrat/miniconda3/envs/latmix/lib/python3.6/site-packages/scipy/interpolate/interpolate.py:688: RuntimeWarning: invalid value encountered in greater\n",
      "  above_bounds = x_new > self.x[-1]\n",
      "/homes/metofac/wenegrat/miniconda3/envs/latmix/lib/python3.6/site-packages/scipy/interpolate/interpolate.py:609: RuntimeWarning: invalid value encountered in true_divide\n",
      "  slope = (y_hi - y_lo) / (x_hi - x_lo)[:, None]\n",
      "/homes/metofac/wenegrat/miniconda3/envs/latmix/lib/python3.6/site-packages/ipykernel_launcher.py:75: RuntimeWarning: invalid value encountered in less\n",
      "/homes/metofac/wenegrat/miniconda3/envs/latmix/lib/python3.6/site-packages/ipykernel_launcher.py:76: RuntimeWarning: invalid value encountered in less\n",
      "/homes/metofac/wenegrat/miniconda3/envs/latmix/lib/python3.6/site-packages/ipykernel_launcher.py:161: UserWarning: This figure includes Axes that are not compatible with tight_layout, so results might be incorrect.\n"
     ]
    },
    {
     "name": "stdout",
     "output_type": "stream",
     "text": [
      "6\n",
      "32188\n",
      "(1913, 18)\n"
     ]
    },
    {
     "name": "stderr",
     "output_type": "stream",
     "text": [
      "/homes/metofac/wenegrat/miniconda3/envs/latmix/lib/python3.6/site-packages/ipykernel_launcher.py:28: RuntimeWarning: invalid value encountered in add\n",
      "/homes/metofac/wenegrat/miniconda3/envs/latmix/lib/python3.6/site-packages/scipy/interpolate/interpolate.py:687: RuntimeWarning: invalid value encountered in less\n",
      "  below_bounds = x_new < self.x[0]\n",
      "/homes/metofac/wenegrat/miniconda3/envs/latmix/lib/python3.6/site-packages/scipy/interpolate/interpolate.py:688: RuntimeWarning: invalid value encountered in greater\n",
      "  above_bounds = x_new > self.x[-1]\n",
      "/homes/metofac/wenegrat/miniconda3/envs/latmix/lib/python3.6/site-packages/ipykernel_launcher.py:161: UserWarning: This figure includes Axes that are not compatible with tight_layout, so results might be incorrect.\n"
     ]
    },
    {
     "name": "stdout",
     "output_type": "stream",
     "text": [
      "7\n",
      "41630\n",
      "(1913, 23)\n"
     ]
    },
    {
     "name": "stderr",
     "output_type": "stream",
     "text": [
      "/homes/metofac/wenegrat/miniconda3/envs/latmix/lib/python3.6/site-packages/ipykernel_launcher.py:28: RuntimeWarning: invalid value encountered in add\n",
      "/homes/metofac/wenegrat/miniconda3/envs/latmix/lib/python3.6/site-packages/scipy/interpolate/interpolate.py:687: RuntimeWarning: invalid value encountered in less\n",
      "  below_bounds = x_new < self.x[0]\n",
      "/homes/metofac/wenegrat/miniconda3/envs/latmix/lib/python3.6/site-packages/scipy/interpolate/interpolate.py:688: RuntimeWarning: invalid value encountered in greater\n",
      "  above_bounds = x_new > self.x[-1]\n",
      "/homes/metofac/wenegrat/miniconda3/envs/latmix/lib/python3.6/site-packages/ipykernel_launcher.py:161: UserWarning: This figure includes Axes that are not compatible with tight_layout, so results might be incorrect.\n"
     ]
    },
    {
     "name": "stdout",
     "output_type": "stream",
     "text": [
      "8\n",
      "21417\n",
      "(1913, 13)\n"
     ]
    },
    {
     "name": "stderr",
     "output_type": "stream",
     "text": [
      "/homes/metofac/wenegrat/miniconda3/envs/latmix/lib/python3.6/site-packages/ipykernel_launcher.py:28: RuntimeWarning: invalid value encountered in add\n",
      "/homes/metofac/wenegrat/miniconda3/envs/latmix/lib/python3.6/site-packages/scipy/interpolate/interpolate.py:687: RuntimeWarning: invalid value encountered in less\n",
      "  below_bounds = x_new < self.x[0]\n",
      "/homes/metofac/wenegrat/miniconda3/envs/latmix/lib/python3.6/site-packages/scipy/interpolate/interpolate.py:688: RuntimeWarning: invalid value encountered in greater\n",
      "  above_bounds = x_new > self.x[-1]\n",
      "/homes/metofac/wenegrat/miniconda3/envs/latmix/lib/python3.6/site-packages/scipy/interpolate/interpolate.py:609: RuntimeWarning: invalid value encountered in true_divide\n",
      "  slope = (y_hi - y_lo) / (x_hi - x_lo)[:, None]\n",
      "/homes/metofac/wenegrat/miniconda3/envs/latmix/lib/python3.6/site-packages/ipykernel_launcher.py:75: RuntimeWarning: invalid value encountered in less\n",
      "/homes/metofac/wenegrat/miniconda3/envs/latmix/lib/python3.6/site-packages/ipykernel_launcher.py:76: RuntimeWarning: invalid value encountered in less\n",
      "/homes/metofac/wenegrat/miniconda3/envs/latmix/lib/python3.6/site-packages/ipykernel_launcher.py:85: RuntimeWarning: invalid value encountered in greater\n",
      "/homes/metofac/wenegrat/miniconda3/envs/latmix/lib/python3.6/site-packages/ipykernel_launcher.py:161: UserWarning: This figure includes Axes that are not compatible with tight_layout, so results might be incorrect.\n"
     ]
    },
    {
     "name": "stdout",
     "output_type": "stream",
     "text": [
      "9\n",
      "34565\n",
      "(1913, 19)\n"
     ]
    },
    {
     "name": "stderr",
     "output_type": "stream",
     "text": [
      "/homes/metofac/wenegrat/miniconda3/envs/latmix/lib/python3.6/site-packages/ipykernel_launcher.py:28: RuntimeWarning: invalid value encountered in add\n",
      "/homes/metofac/wenegrat/miniconda3/envs/latmix/lib/python3.6/site-packages/scipy/interpolate/interpolate.py:687: RuntimeWarning: invalid value encountered in less\n",
      "  below_bounds = x_new < self.x[0]\n",
      "/homes/metofac/wenegrat/miniconda3/envs/latmix/lib/python3.6/site-packages/scipy/interpolate/interpolate.py:688: RuntimeWarning: invalid value encountered in greater\n",
      "  above_bounds = x_new > self.x[-1]\n",
      "/homes/metofac/wenegrat/miniconda3/envs/latmix/lib/python3.6/site-packages/scipy/interpolate/interpolate.py:609: RuntimeWarning: invalid value encountered in true_divide\n",
      "  slope = (y_hi - y_lo) / (x_hi - x_lo)[:, None]\n",
      "/homes/metofac/wenegrat/miniconda3/envs/latmix/lib/python3.6/site-packages/ipykernel_launcher.py:75: RuntimeWarning: invalid value encountered in less\n",
      "/homes/metofac/wenegrat/miniconda3/envs/latmix/lib/python3.6/site-packages/ipykernel_launcher.py:76: RuntimeWarning: invalid value encountered in less\n",
      "/homes/metofac/wenegrat/miniconda3/envs/latmix/lib/python3.6/site-packages/ipykernel_launcher.py:161: UserWarning: This figure includes Axes that are not compatible with tight_layout, so results might be incorrect.\n"
     ]
    },
    {
     "name": "stdout",
     "output_type": "stream",
     "text": [
      "10\n",
      "30920\n",
      "(1913, 17)\n"
     ]
    },
    {
     "name": "stderr",
     "output_type": "stream",
     "text": [
      "/homes/metofac/wenegrat/miniconda3/envs/latmix/lib/python3.6/site-packages/ipykernel_launcher.py:28: RuntimeWarning: invalid value encountered in add\n",
      "/homes/metofac/wenegrat/miniconda3/envs/latmix/lib/python3.6/site-packages/scipy/interpolate/interpolate.py:687: RuntimeWarning: invalid value encountered in less\n",
      "  below_bounds = x_new < self.x[0]\n",
      "/homes/metofac/wenegrat/miniconda3/envs/latmix/lib/python3.6/site-packages/scipy/interpolate/interpolate.py:688: RuntimeWarning: invalid value encountered in greater\n",
      "  above_bounds = x_new > self.x[-1]\n",
      "/homes/metofac/wenegrat/miniconda3/envs/latmix/lib/python3.6/site-packages/ipykernel_launcher.py:161: UserWarning: This figure includes Axes that are not compatible with tight_layout, so results might be incorrect.\n"
     ]
    },
    {
     "name": "stdout",
     "output_type": "stream",
     "text": [
      "11\n",
      "46308\n",
      "(1913, 26)\n"
     ]
    },
    {
     "name": "stderr",
     "output_type": "stream",
     "text": [
      "/homes/metofac/wenegrat/miniconda3/envs/latmix/lib/python3.6/site-packages/ipykernel_launcher.py:28: RuntimeWarning: invalid value encountered in add\n",
      "/homes/metofac/wenegrat/miniconda3/envs/latmix/lib/python3.6/site-packages/scipy/interpolate/interpolate.py:687: RuntimeWarning: invalid value encountered in less\n",
      "  below_bounds = x_new < self.x[0]\n",
      "/homes/metofac/wenegrat/miniconda3/envs/latmix/lib/python3.6/site-packages/scipy/interpolate/interpolate.py:688: RuntimeWarning: invalid value encountered in greater\n",
      "  above_bounds = x_new > self.x[-1]\n",
      "/homes/metofac/wenegrat/miniconda3/envs/latmix/lib/python3.6/site-packages/scipy/interpolate/interpolate.py:609: RuntimeWarning: invalid value encountered in true_divide\n",
      "  slope = (y_hi - y_lo) / (x_hi - x_lo)[:, None]\n",
      "/homes/metofac/wenegrat/miniconda3/envs/latmix/lib/python3.6/site-packages/ipykernel_launcher.py:75: RuntimeWarning: invalid value encountered in less\n",
      "/homes/metofac/wenegrat/miniconda3/envs/latmix/lib/python3.6/site-packages/ipykernel_launcher.py:76: RuntimeWarning: invalid value encountered in less\n",
      "/homes/metofac/wenegrat/miniconda3/envs/latmix/lib/python3.6/site-packages/ipykernel_launcher.py:161: UserWarning: This figure includes Axes that are not compatible with tight_layout, so results might be incorrect.\n"
     ]
    }
   ],
   "source": [
    "    \n",
    "#%% MOVIE FIGURE\n",
    "\n",
    "\n",
    "\n",
    "save = True\n",
    "conts = np.linspace(-3, 0, 50)\n",
    "rhoc = np.linspace(20, 30, 101)+0.1\n",
    "\n",
    "fac = 1.5\n",
    "plt.rcParams['font.size'] = 20/fac\n",
    "\n",
    "norm = np.nanmax(fluorppb)\n",
    "\n",
    "ckeeps = [4, 6, 8, 10, 12, 13, 15, 16, 17, 18, 19, 20, 21, 22]\n",
    "#Xi, Yi = np.meshgrid(np.linspace(-10, 10, 200),np.linspace(0, 150, 150))\n",
    "\n",
    "#indb = np.argmin(np.abs(time_f/86400-64.87+64.5))\n",
    "for i in range(0, 12, 1):\n",
    "    print(i)\n",
    "    fig = plt.figure(figsize=(16/fac,9/fac), dpi=fac*100)\n",
    "    axdye = plt.subplot2grid((3,3), (0,0), rowspan = 2, colspan=3)\n",
    "\n",
    "    span = range(II[ckeeps[i],0], II[ckeeps[i],1])\n",
    "#    X = shiplogc[:,span]\n",
    "#    Y = depth[:,span]\n",
    "#    C = fluorppb[:,span]/norm\n",
    "#    R = rho[:,span]\n",
    "\n",
    "    Xi, Yi, Ci, Ri, shiplogobs, depthobs = getProjectedSection(ckeeps[i])\n",
    "#    nz, nx = X.shape\n",
    "#    Xa = X.reshape(nx*nz)\n",
    "#    Ya = Y.reshape(nx*nz)\n",
    "#    Ca = C.reshape(nx*nz)\n",
    "#    Ra = R.reshape(nx*nz)\n",
    "#    mask   = np.isfinite(Xa+Ya+Ca)\n",
    "#    Ci = griddata((Xa[mask], Ya[mask]), Ca[mask], (Xi,Yi), method='linear')\n",
    "#    Ri = griddata((Xa[mask], Ya[mask]), Ra[mask], (Xi,Yi), method='linear')\n",
    "    Xp = np.zeros(Xi.shape)\n",
    "    Xp[:,1:] = 0.5*(Xi[:,1:] + Xi[:,0:-1])\n",
    "    Xp[:,0] = -5\n",
    "    \n",
    "    cmap = 'gnuplot'\n",
    "\n",
    "    im = axdye.pcolor(Xp, Yi, np.log10(Ci), vmin=conts[0], vmax=conts[-1], cmap=cmap)\n",
    "    im.set_edgecolor('face')\n",
    "    \n",
    "    #axdye.scatter(shiplogobs, depthobs, marker='x') # Scatter Tow-Yo Track\n",
    "    #im = axdye.contourf(Xi, Yi, np.log10(Ci), conts, extend='min', cmap=cmap)\n",
    "    #for c in im.collections:\n",
    "    #    c.set_edgecolor(\"face\")\n",
    "#    im = axdye.pcolor(X, Y, np.log10(C),  vmin=-3, vmax=0,  cmap=cmap)\n",
    "#    axdye.contour(X,Y, R,rhoc, colors='w')\n",
    "    axdye.contour(Xi,Yi, Ri,rhoc, colors='w')\n",
    "\n",
    "    axdye.set_ylim(0, 150)\n",
    "    axdye.set_yticks([0, 50, 100, 150])\n",
    "    axdye.invert_yaxis()\n",
    "    axdye.set_xlabel('km')\n",
    "    axdye.set_ylabel('Pressure [db]')\n",
    "    mt = np.nanmean(jday[:,span])\n",
    "    axdye.set_title(f'Days since dye release: {mt-64.87:3.2f}')\n",
    "    axdye.set_xlim([-5, 5])\n",
    "#    dyevar = np.log10(dye1_f[i,1:,:])\n",
    "    \n",
    "    axsst = plt.subplot2grid((3,3), (2,2), colspan=1)\n",
    "    cmap = 'RdYlBu_r'\n",
    "    tliml = 13\n",
    "    tlimh = 23  \n",
    "    aspratio = 1/np.cos(39*np.pi/180) # > 1 indicates x coordinate is smaller than y coordinate\n",
    "\n",
    "    isst = axsst.pcolor(longrid[lonliml-1:lonlimr+1], latgrid[latliml-1:latlimr+1], np.transpose(sst[lonliml-1:lonlimr+1, latliml-1:latlimr+1]), cmap=cmap, vmin = tliml, vmax=tlimh)\n",
    "    isst.set_edgecolor('face')\n",
    "    indrelease = np.argmin(np.abs(fyds - 64.86))\n",
    "    axsst.plot(flons[indrelease:], flats[indrelease:], linewidth=2,  color='k', label='Float')\n",
    "    \n",
    "    axsst.plot(flons[indrelease], flats[indrelease], marker='o', color='y')\n",
    "    \n",
    "    axsst.set_ylim(38.,39.5)\n",
    "    axsst.set_xlim(-65.5, -62.5)\n",
    "    axsst.set_aspect(aspratio)\n",
    "\n",
    "    axsst.set_ylabel('Latitude', labelpad=-0.5)\n",
    "    axsst.set_xlabel('Longitude')\n",
    "\n",
    "           \n",
    "    axsst.plot(lonK, latK, linewidth=2, color = '#1f77b4', label='R/V Knorr')\n",
    "    l1, = axsst.plot(np.nanmean(lon[:,span], axis=0), np.nanmean(lat[:,span], axis=0), color = 'w', linestyle='dashed')\n",
    "    l1.set_dashes([1, 1])\n",
    "    \n",
    "    axsst.legend(loc=4, ncol=2, fontsize=8, handletextpad=0.2, columnspacing=0.8)\n",
    "\n",
    "    axflux = plt.subplot2grid((3,3), (2,0), colspan=2)\n",
    "    #color = 'tab:blue'\n",
    "    #axflux.plot(yearday, tmag, color=color, linewidth=2)\n",
    "    #axflux.tick_params(axis='y', labelcolor=color)\n",
    "    #axflux.set_ylabel('Wind-stress [N m$^{-2}$]', color=color)  # we already handled the x-label with ax1\n",
    "    #axflux.set_ylim((0, 1.2))\n",
    "    #axflux.set_yticks([0, 0.3, 0.6, 0.9,  1.2])\n",
    "    #axflux.set_xlim((64.5, 66))\n",
    "    #axflux.set_xlabel('yearday')\n",
    "    \n",
    "    #axflux2 = axflux.twinx()\n",
    "#    axflux.axvline(time_f[i]/86400+64.5, linestyle='dashed', color='k')\n",
    "#    axflux.axvline(np.nanmean(jday[:,span]), linestyle='dashed', color='k')\n",
    "    #axflux.axvspan(np.nanmean(jday[:,span[0]]), np.nanmean(jday[:,span[-1]]), alpha=0.5)\n",
    "    #color = 'tab:red'\n",
    "    #axflux2.plot(yearday, qnet, color=color, linewidth=2)\n",
    "    #axflux2.set_ylabel('Heat flux [W m$^{-2}$]', color=color)  # we already handled the x-label with ax1\n",
    "    #axflux2.tick_params(axis='y', labelcolor=color)\n",
    "    #axflux2.set_ylim((0, 1200))\n",
    "    #axflux2.set_xlim((64.87, 66))\n",
    "    #axflux2.set_yticks([0, 300, 600, 900,  1200])\n",
    "    #axflux.grid(linestyle='dashed')\n",
    "    \n",
    "    #Quiver version here:\n",
    "    color = 'tab:red'\n",
    "    axflux.plot(yearday, qnet, color=color, linewidth=2)\n",
    "    axflux.set_ylim(-1200,1200)\n",
    "    axflux.set_xlim(64.87, 66)\n",
    "    axflux.grid(linestyle='dashed')\n",
    "    axflux.set_ylabel('Heat flux [W m$^{-2}$]', color=color)  # we already handled the x-label with ax1\n",
    "    axflux.tick_params(axis='y', labelcolor=color)\n",
    "    axflux.set_xlabel('yearday')\n",
    "    \n",
    "    axflux.axvspan(np.nanmean(jday[:,span[0]]), np.nanmean(jday[:,span[-1]]), alpha=0.5)\n",
    "    #axflux.axvline(np.nanmean(jday[:,span]))\n",
    "    axwind = axflux.twinx()\n",
    "    axwind.set_yticklabels([])\n",
    "    q = axwind.quiver(yearday, 0*yearday, tau_d, tau_cs, scale=10)\n",
    "\n",
    "    #axwind.quiverkey(q, 64.995, -1000, 0.5, 'Down-\\nstream', coordinates='data', labelpos='S', fontproperties={'size': 10})\n",
    "    #axwind.quiverkey(q, 64.94, -790, 0.5, 'Cross-\\nstream', coordinates='data',labelpos='W', angle=90, labelsep=0.05, fontproperties={'size': 10})\n",
    "    axwind.text(64.952, -650, '0.75\\nN m$^{-2}$', fontsize=10, bbox=dict(boxstyle='square,pad=0', fc='w', ec='none'))\n",
    "    axwind.quiver(64.935, -850, 0.75, 0., scale=10, width=3e-3)\n",
    "    axwind.quiver(64.935, -850, 0., 0.75, scale=10, width=3e-3)\n",
    "    axwind.text(64.88, -800, 'Cross-\\nstream', fontsize=8, rotation=90)\n",
    "    axwind.text(64.91, -1100, 'Downstream', fontsize=8, rotation=0, bbox=dict(boxstyle='square,pad=0', fc='w', ec='none'))\n",
    "\n",
    "    axwind.set_ylim(-1200, 1200)\n",
    "    plt.subplots_adjust(wspace=3.5, hspace=0.04)\n",
    "    \n",
    "    fig.subplots_adjust(right=0.9)\n",
    "    cbar_ax = fig.add_axes([0.91, 0.45, 0.01, 0.45])\n",
    "    cb = fig.colorbar(im, cax=cbar_ax, extend='min')\n",
    "    cb.set_ticks([-3, -2, -1, 0])\n",
    "    cb.set_label('log$_{10}$[Normalized Concentration]')\n",
    "    \n",
    "#    cbar_ax = fig.add_axes([0.91, 0.09, 0.01, 0.22])\n",
    "#    cb = fig.colorbar(isst, cax=cbar_ax, extend='both')\n",
    "##    cb.set_ticks([-3, -2, -1, 0])\n",
    "#    cb.set_label('SST [$^\\circ$ C]')\n",
    "    cbaxes = inset_axes(axsst, width=\"40%\", height=\"3%\", loc=9) \n",
    "    cb = plt.colorbar(isst, cax=cbaxes, orientation='horizontal', extend='both')\n",
    "    cb.set_label('SST [$^{\\circ}$ C]', color='w', fontsize=10, labelpad=-1)\n",
    "    cb.outline.set_edgecolor('w')\n",
    "    cb.set_ticks([tliml, (tlimh-tliml)/2+tliml, tlimh])\n",
    "    cb.ax.xaxis.set_tick_params(color='w')\n",
    "    cb.ax.tick_params(labelsize=8)\n",
    "    plt.setp(plt.getp(cb.ax.axes, 'xticklabels'), color='w') # set colorbar  \n",
    "\n",
    "    fig.tight_layout(pad=0.2)\n",
    "    \n",
    "    fig.subplots_adjust(right=0.9)\n",
    "\n",
    "    if save:\n",
    "        plt.savefig(f'/data/pacific/jacob/LATMIXDYE/ObsMovieFigs/LatmixDyeObs_{i}.png')\n",
    "        plt.close('all')\n",
    "    \n",
    "## TO MAKE MOVIE\n",
    "# ffmpeg -start_number 0 -i LatmixDyeObs_%d.png -pix_fmt yuv420p -vf \"setpts=48*PTS\" dye_obs.mov"
   ]
  },
  {
   "cell_type": "code",
   "execution_count": 325,
   "metadata": {},
   "outputs": [
    {
     "ename": "NameError",
     "evalue": "name 'shiplogc' is not defined",
     "output_type": "error",
     "traceback": [
      "\u001b[0;31m---------------------------------------------------------------------------\u001b[0m",
      "\u001b[0;31mNameError\u001b[0m                                 Traceback (most recent call last)",
      "\u001b[0;32m<ipython-input-325-901f26ab78cf>\u001b[0m in \u001b[0;36m<module>\u001b[0;34m\u001b[0m\n\u001b[0;32m----> 1\u001b[0;31m \u001b[0mshiplogc\u001b[0m\u001b[0;34m\u001b[0m\u001b[0;34m\u001b[0m\u001b[0m\n\u001b[0m",
      "\u001b[0;31mNameError\u001b[0m: name 'shiplogc' is not defined"
     ]
    }
   ],
   "source": [
    "shiplogc"
   ]
  },
  {
   "cell_type": "code",
   "execution_count": 188,
   "metadata": {},
   "outputs": [
    {
     "data": {
      "text/plain": [
       "(-1200, 1200)"
      ]
     },
     "execution_count": 188,
     "metadata": {},
     "output_type": "execute_result"
    },
    {
     "data": {
      "image/png": "[encoded data removed]",
      "text/plain": [
       "<Figure size 864x576 with 2 Axes>"
      ]
     },
     "metadata": {
      "needs_background": "light"
     },
     "output_type": "display_data"
    }
   ],
   "source": [
    "\n",
    "\n",
    "fig, ax = plt.subplots(1,1, sharex=True, figsize=(12,8))\n",
    "ax.plot(yearday, qnet)\n",
    "ax.set_ylim(-1200,1200)\n",
    "ax.set_xlim(64.5, 66)\n",
    "ax.grid()\n",
    "ax2 = ax.twinx()\n",
    "ax2.set_yticklabels([])\n",
    "q = ax2.quiver(yearday, 0*yearday, tau_d, tau_cs, scale=3.75)\n",
    "\n",
    "ax2.quiverkey(q, 64.7, -1000, 0.5, 'Downstream', coordinates='data', labelpos='S')\n",
    "ax2.quiverkey(q, 64.6, -750, 0.5, 'Cross-stream', coordinates='data', angle=90, labelsep=0.65)\n",
    "ax2.text(64.625, -800, '0.5 N m$^{-2}$')\n",
    "ax2.set_ylim(-1200, 1200)\n"
   ]
  },
  {
   "cell_type": "code",
   "execution_count": 90,
   "metadata": {},
   "outputs": [
    {
     "data": {
      "text/plain": [
       "(2, 80)"
      ]
     },
     "execution_count": 90,
     "metadata": {},
     "output_type": "execute_result"
    }
   ],
   "source": [
    "np.array([np.array(yearday), 0*np.array(yearday)]).shape"
   ]
  },
  {
   "cell_type": "code",
   "execution_count": 127,
   "metadata": {},
   "outputs": [
    {
     "data": {
      "text/plain": [
       "1.181446135909563"
      ]
     },
     "execution_count": 127,
     "metadata": {},
     "output_type": "execute_result"
    }
   ],
   "source": [
    "np.max(tmag)"
   ]
  },
  {
   "cell_type": "code",
   "execution_count": null,
   "metadata": {},
   "outputs": [],
   "source": []
  }
 ],
 "metadata": {
  "kernelspec": {
   "display_name": "Python [conda env:latmix]",
   "language": "python",
   "name": "conda-env-latmix-py"
  },
  "language_info": {
   "codemirror_mode": {
    "name": "ipython",
    "version": 3
   },
   "file_extension": ".py",
   "mimetype": "text/x-python",
   "name": "python",
   "nbconvert_exporter": "python",
   "pygments_lexer": "ipython3",
   "version": "3.6.10"
  }
 },
 "nbformat": 4,
 "nbformat_minor": 4
}
