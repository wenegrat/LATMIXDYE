{
 "cells": [
  {
   "cell_type": "markdown",
   "metadata": {},
   "source": [
    "# LATMIX DYE RELEASE ANALYSIS\n",
    "## Jacob Wenegrat (jwenegrat@stanford.edu)\n",
    "\n",
    "This Juypter notebook contains the analysis necessary to support the manuscript in progress Wenegrat et al. Submesoscale fronts enhance horizontal dispersion"
   ]
  },
  {
   "cell_type": "markdown",
   "metadata": {},
   "source": [
    "## Overview of dye release experiment\n",
    "This analysis creates a descriptive figure, showing the ship tracks, sections showing the horizontal dye dispersion, and a plan view of the dye dispersion (and/or dye in density space)."
   ]
  },
  {
   "cell_type": "markdown",
   "metadata": {},
   "source": [
    "## Dye evolution in the three model simulations\n",
    "Figure showing how the dye in the three model simulations evolves."
   ]
  },
  {
   "cell_type": "markdown",
   "metadata": {},
   "source": [
    "## Model dye dispersion characteristics\n",
    "Calculate COM based dispersion metrics."
   ]
  },
  {
   "cell_type": "markdown",
   "metadata": {},
   "source": [
    "## Dynamical analysis\n",
    "Need to show that the mixing of geostrophic momentum is the correct interpretation. Also need to clarify the role of SI vs surface generated turbulence.\n",
    "\n",
    "Some ideas:\n",
    "\n",
    "1) Can show the sheared inertial oscillations, and how simplified dedalus model reproduces this.\n",
    "\n",
    "2) Momentum fluxes in spectral space help set the distribution between turbulence and SI.\n"
   ]
  },
  {
   "cell_type": "markdown",
   "metadata": {},
   "source": [
    "## Effect of mechanism on physical and biogeochemical gradients\n",
    "Make figure that shows that the gradients of properties (eg. salinity and nitrate) are enhanced below the SML."
   ]
  }
 ],
 "metadata": {
  "kernelspec": {
   "display_name": "Python 3",
   "language": "python",
   "name": "python3"
  },
  "language_info": {
   "codemirror_mode": {
    "name": "ipython",
    "version": 3
   },
   "file_extension": ".py",
   "mimetype": "text/x-python",
   "name": "python",
   "nbconvert_exporter": "python",
   "pygments_lexer": "ipython3",
   "version": "3.6.8"
  }
 },
 "nbformat": 4,
 "nbformat_minor": 2
}
